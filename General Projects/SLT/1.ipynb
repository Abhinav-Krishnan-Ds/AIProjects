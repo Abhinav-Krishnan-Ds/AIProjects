{
 "cells": [
  {
   "cell_type": "code",
   "execution_count": 1,
   "metadata": {},
   "outputs": [
    {
     "ename": "KeyboardInterrupt",
     "evalue": "",
     "output_type": "error",
     "traceback": [
      "\u001b[0;31m---------------------------------------------------------------------------\u001b[0m",
      "\u001b[0;31mKeyboardInterrupt\u001b[0m                         Traceback (most recent call last)",
      "Cell \u001b[0;32mIn[1], line 53\u001b[0m\n\u001b[1;32m     51\u001b[0m edges \u001b[38;5;241m=\u001b[39m cv2\u001b[38;5;241m.\u001b[39mresize(edges, (\u001b[38;5;241m1280\u001b[39m, \u001b[38;5;241m720\u001b[39m))\n\u001b[1;32m     52\u001b[0m \u001b[38;5;66;03m# print(\"just before out\")\u001b[39;00m\n\u001b[0;32m---> 53\u001b[0m \u001b[43mout\u001b[49m\u001b[38;5;241;43m.\u001b[39;49m\u001b[43mwrite\u001b[49m\u001b[43m(\u001b[49m\u001b[43medges\u001b[49m\u001b[43m)\u001b[49m\n\u001b[1;32m     54\u001b[0m cv2\u001b[38;5;241m.\u001b[39mimshow(\u001b[38;5;124m'\u001b[39m\u001b[38;5;124mframe\u001b[39m\u001b[38;5;124m'\u001b[39m, edges)\n\u001b[1;32m     55\u001b[0m \u001b[38;5;66;03m# print(\"cv2\")\u001b[39;00m\n",
      "\u001b[0;31mKeyboardInterrupt\u001b[0m: "
     ]
    }
   ],
   "source": [
    "import cv2\n",
    "from pathlib import Path\n",
    "\n",
    "\n",
    "input_video_p_base_arr = [\"/home/abhinav/Documents/Work/1 Services/SLT/Sltproject/data/videos/training_data/\",\n",
    "                       \"/home/abhinav/Documents/Work/1 Services/SLT/Sltproject/data/videos/testing_data/\"\n",
    "                    ]\n",
    "output_video_p_base_arr = [\"/bg_train_data/\",\n",
    "                           \"/bg_test_data/\"]\n",
    "\n",
    "\n",
    "# This function would take videos from a folder (say training data), convert each video into edge detected video and put in another\n",
    "# folder (say bg_train_data), The same will be done to testing_data folder\n",
    "\n",
    "for k in range(len(input_video_p_base_arr)):\n",
    "    input_video_p_base = input_video_p_base_arr[k]\n",
    "    out_base = output_video_p_base_arr[k]\n",
    "    for i in range(1, 15):\n",
    "        if i < 10:\n",
    "            input_video_p = input_video_p_base + \"0\" + str(i)\n",
    "        else:\n",
    "            input_video_p = input_video_p_base + str(i)\n",
    "        # Define the directory path\n",
    "        directory_path = Path(input_video_p)\n",
    "\n",
    "        # Define video file extensions\n",
    "        video_extensions = {\".mp4\", \".avi\", \".mkv\", \".mov\"}\n",
    "\n",
    "        # Iterate through files in the directory\n",
    "        for file_path in directory_path.iterdir():\n",
    "            # Check if the file is a video\n",
    "            if file_path.suffix.lower() in video_extensions:\n",
    "                # print(f\"Processing vide2: {file_path}\")\n",
    "                input_video = file_path\n",
    "                p1 = \"/\".join(str(input_video).split(\"/\")[:-3]) + out_base\n",
    "                p2 = \"/\".join(str(input_video).split(\"/\")[-2:])\n",
    "                output_video = p1 + p2\n",
    "                # print(f\"Processing vide2: {output_video}\")\n",
    "\n",
    "\n",
    "\n",
    "                cap = cv2.VideoCapture(input_video)\n",
    "\n",
    "                fourcc = cv2.VideoWriter_fourcc(*\"mp4v\")\n",
    "                out = cv2.VideoWriter(output_video, fourcc, 23.976, (1280, 720), isColor=False)\n",
    "\n",
    "                while cap.isOpened():\n",
    "                    ret, frame = cap.read()\n",
    "                    if ret:\n",
    "                        edges = cv2.Canny(frame, 50, 50)\n",
    "                        edges = cv2.resize(edges, (1280, 720))\n",
    "                        # print(\"just before out\")\n",
    "                        out.write(edges)\n",
    "                        cv2.imshow('frame', edges)\n",
    "                        # print(\"cv2\")\n",
    "                        c = cv2.waitKey(1)\n",
    "                        if c & 0xFF == ord('q'):\n",
    "                            break\n",
    "                    else:\n",
    "                        break\n",
    "\n",
    "                cap.release()\n",
    "                out.release()"
   ]
  },
  {
   "cell_type": "code",
   "execution_count": null,
   "metadata": {},
   "outputs": [],
   "source": []
  }
 ],
 "metadata": {
  "kernelspec": {
   "display_name": "Python 3",
   "language": "python",
   "name": "python3"
  },
  "language_info": {
   "codemirror_mode": {
    "name": "ipython",
    "version": 3
   },
   "file_extension": ".py",
   "mimetype": "text/x-python",
   "name": "python",
   "nbconvert_exporter": "python",
   "pygments_lexer": "ipython3",
   "version": "3.10.12"
  }
 },
 "nbformat": 4,
 "nbformat_minor": 2
}
