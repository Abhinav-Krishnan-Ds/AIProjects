{
 "cells": [
  {
   "cell_type": "code",
   "execution_count": 1,
   "metadata": {},
   "outputs": [],
   "source": [
    "import torch\n",
    "\n",
    "from torch.nn.utils.rnn import pack_padded_sequence, pad_packed_sequence, PackedSequence\n",
    "from torch import nn\n",
    "\n",
    "from torch import Tensor, dot, matmul\n",
    "\n",
    "import torch.nn.functional as F"
   ]
  },
  {
   "cell_type": "code",
   "execution_count": 2,
   "metadata": {},
   "outputs": [],
   "source": [
    "seq = torch.FloatTensor([[3, 4, 5]])\n",
    "\n",
    "rnn= nn.RNN(input_size=1, hidden_size=1, num_layers = 1, bias = False, batch_first=True)"
   ]
  },
  {
   "cell_type": "code",
   "execution_count": 3,
   "metadata": {},
   "outputs": [
    {
     "name": "stdout",
     "output_type": "stream",
     "text": [
      "torch.Size([1, 3, 1])\n"
     ]
    }
   ],
   "source": [
    "seq = seq.unsqueeze(2)\n",
    "print(seq.shape)"
   ]
  },
  {
   "cell_type": "code",
   "execution_count": 4,
   "metadata": {},
   "outputs": [
    {
     "name": "stdout",
     "output_type": "stream",
     "text": [
      "total output shape: torch.Size([1, 3, 1])\n",
      "final output shape: torch.Size([1, 1, 1])\n"
     ]
    }
   ],
   "source": [
    "total_out, final_out = rnn(seq)\n",
    "print(f\"total output shape: {total_out.shape}\")\n",
    "print(f\"final output shape: {final_out.shape}\")"
   ]
  },
  {
   "cell_type": "code",
   "execution_count": 5,
   "metadata": {},
   "outputs": [
    {
     "name": "stdout",
     "output_type": "stream",
     "text": [
      "Parameter containing:\n",
      "tensor([[0.7746]], requires_grad=True)\n",
      "OrderedDict([('weight_ih_l0', tensor([[0.8023]])), ('weight_hh_l0', tensor([[0.7746]]))])\n"
     ]
    }
   ],
   "source": [
    "print(rnn.weight_hh_l0)\n",
    "print(rnn.state_dict())"
   ]
  },
  {
   "cell_type": "code",
   "execution_count": null,
   "metadata": {},
   "outputs": [],
   "source": []
  },
  {
   "cell_type": "code",
   "execution_count": 6,
   "metadata": {},
   "outputs": [
    {
     "name": "stdout",
     "output_type": "stream",
     "text": [
      "h1:  tensor([[0.9839]], grad_fn=<TanhBackward0>)\n",
      "h2:  tensor([[0.9993]], grad_fn=<TanhBackward0>)\n",
      "h3:  tensor([[0.9999]], grad_fn=<TanhBackward0>)\n"
     ]
    }
   ],
   "source": [
    "wih = rnn.weight_ih_l0\n",
    "whh = rnn.weight_hh_l0\n",
    "\n",
    "#First input sequence of the first feature\n",
    "x = seq[0][0]\n",
    "h1 = torch.tanh(Tensor(x*wih + whh*0))\n",
    "print(\"h1: \", h1)\n",
    "\n",
    "x2 = seq[0][1]\n",
    "h2 = torch.tanh(Tensor(x2*wih + whh*h1))\n",
    "print(\"h2: \", h2)\n",
    "\n",
    "x3 = seq[0][2]\n",
    "h3 = torch.tanh(Tensor(x3*wih + whh*h2))\n",
    "print(\"h3: \", h3)"
   ]
  },
  {
   "cell_type": "code",
   "execution_count": 7,
   "metadata": {},
   "outputs": [
    {
     "data": {
      "text/plain": [
       "tensor([[[0.9839],\n",
       "         [0.9993],\n",
       "         [0.9999]]], grad_fn=<TransposeBackward1>)"
      ]
     },
     "execution_count": 7,
     "metadata": {},
     "output_type": "execute_result"
    }
   ],
   "source": [
    "total_out"
   ]
  },
  {
   "cell_type": "code",
   "execution_count": 8,
   "metadata": {},
   "outputs": [],
   "source": [
    "# s = torch.tensor([1, 2, 3, 4, 5, 6])\n",
    "# sd = torch.tensor([[11, 22, 33, 44, 55, 66]])\n",
    "# sdf = torch.tensor([[121], [123], [1234], [12345], [123456]])\n",
    "# sdfg = torch.tensor([[[0, 9, 8, 7, 6]]])"
   ]
  },
  {
   "cell_type": "code",
   "execution_count": 9,
   "metadata": {},
   "outputs": [],
   "source": [
    "# print(s.unsqueeze(0).unsqueeze(0).shape)\n",
    "# # print(s.unsqueeze(1))\n",
    "# # print(s.unsqueeze(2))"
   ]
  },
  {
   "cell_type": "code",
   "execution_count": 10,
   "metadata": {},
   "outputs": [],
   "source": [
    "# print(sd)\n",
    "# print(sd.unsqueeze(0))\n",
    "# print(sd.unsqueeze(2))"
   ]
  },
  {
   "cell_type": "code",
   "execution_count": 11,
   "metadata": {},
   "outputs": [],
   "source": [
    "# print(sdf.shape)\n",
    "# print(sdf)\n",
    "# print(sdf.unsqueeze(0))\n",
    "# print(sdf.unsqueeze(2))\n",
    "# print(sdf)\n",
    "# print(sdf.squeeze(0))\n",
    "# print(sdf.squeeze(1))"
   ]
  },
  {
   "cell_type": "code",
   "execution_count": 12,
   "metadata": {},
   "outputs": [],
   "source": [
    "# u = torch.tensor([4, 5, 6])\n",
    "# s = torch.tensor([1, 2, 3, u, 7])"
   ]
  },
  {
   "cell_type": "code",
   "execution_count": null,
   "metadata": {},
   "outputs": [],
   "source": []
  }
 ],
 "metadata": {
  "kernelspec": {
   "display_name": "Python 3",
   "language": "python",
   "name": "python3"
  },
  "language_info": {
   "codemirror_mode": {
    "name": "ipython",
    "version": 3
   },
   "file_extension": ".py",
   "mimetype": "text/x-python",
   "name": "python",
   "nbconvert_exporter": "python",
   "pygments_lexer": "ipython3",
   "version": "3.10.12"
  }
 },
 "nbformat": 4,
 "nbformat_minor": 2
}
