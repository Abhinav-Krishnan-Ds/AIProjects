{
  "nbformat": 4,
  "nbformat_minor": 0,
  "metadata": {
    "colab": {
      "provenance": [],
      "gpuType": "T4"
    },
    "kernelspec": {
      "name": "python3",
      "display_name": "Python 3"
    },
    "language_info": {
      "name": "python"
    },
    "accelerator": "GPU"
  },
  "cells": [
    {
      "cell_type": "code",
      "execution_count": null,
      "metadata": {
        "colab": {
          "base_uri": "https://localhost:8080/"
        },
        "id": "Y-px_8gU9Ek-",
        "outputId": "3a2d7521-a79b-4a72-ba56-e696a846549b"
      },
      "outputs": [
        {
          "output_type": "stream",
          "name": "stdout",
          "text": [
            "Requirement already satisfied: gensim in /usr/local/lib/python3.10/dist-packages (4.3.3)\n",
            "Requirement already satisfied: numpy<2.0,>=1.18.5 in /usr/local/lib/python3.10/dist-packages (from gensim) (1.26.4)\n",
            "Requirement already satisfied: scipy<1.14.0,>=1.7.0 in /usr/local/lib/python3.10/dist-packages (from gensim) (1.13.1)\n",
            "Requirement already satisfied: smart-open>=1.8.1 in /usr/local/lib/python3.10/dist-packages (from gensim) (7.0.5)\n",
            "Requirement already satisfied: wrapt in /usr/local/lib/python3.10/dist-packages (from smart-open>=1.8.1->gensim) (1.16.0)\n"
          ]
        }
      ],
      "source": [
        "!pip install gensim"
      ]
    },
    {
      "cell_type": "code",
      "source": [
        "import gensim.downloader as api"
      ],
      "metadata": {
        "id": "M8lmwcv79JcC"
      },
      "execution_count": null,
      "outputs": []
    },
    {
      "cell_type": "code",
      "source": [
        "model = api.load(\"word2vec-google-news-300\")"
      ],
      "metadata": {
        "colab": {
          "base_uri": "https://localhost:8080/"
        },
        "id": "NBNmdKOp9OKW",
        "outputId": "34a42257-a26e-49a7-d825-704cab960928"
      },
      "execution_count": null,
      "outputs": [
        {
          "output_type": "stream",
          "name": "stdout",
          "text": [
            "[==================================================] 100.0% 1662.8/1662.8MB downloaded\n"
          ]
        }
      ]
    },
    {
      "cell_type": "code",
      "source": [
        "len(model)"
      ],
      "metadata": {
        "colab": {
          "base_uri": "https://localhost:8080/"
        },
        "id": "5_v2HwX79Vjp",
        "outputId": "10c9bd24-bb9b-4c2f-ec60-218a6cd5764a"
      },
      "execution_count": null,
      "outputs": [
        {
          "output_type": "execute_result",
          "data": {
            "text/plain": [
              "3000000"
            ]
          },
          "metadata": {},
          "execution_count": 4
        }
      ]
    },
    {
      "cell_type": "code",
      "source": [
        "print(\"King  + Woman - man : \", model.most_similar(positive=[\"king\", \"woman\"], negative=[\"man\"], topn=10))"
      ],
      "metadata": {
        "colab": {
          "base_uri": "https://localhost:8080/"
        },
        "id": "XnjEj4QiINz5",
        "outputId": "610773ae-0eb6-4dfe-815d-11e0775af5de"
      },
      "execution_count": null,
      "outputs": [
        {
          "output_type": "stream",
          "name": "stdout",
          "text": [
            "King  + Woman - man :  [('queen', 0.7118193507194519), ('monarch', 0.6189674139022827), ('princess', 0.5902431011199951), ('crown_prince', 0.5499460697174072), ('prince', 0.5377321839332581), ('kings', 0.5236844420433044), ('Queen_Consort', 0.5235945582389832), ('queens', 0.5181134343147278), ('sultan', 0.5098593831062317), ('monarchy', 0.5087411999702454)]\n"
          ]
        }
      ]
    },
    {
      "cell_type": "code",
      "source": [
        "# Lets check similarity\n",
        "\n",
        "print(\"Word pair  Similarity\")\n",
        "print(\"king, queen: \", model.similarity(\"king\", \"queen\"))\n",
        "print(\"king, kings: \", model.similarity(\"king\", \"kings\"))\n",
        "print(\"king, men: \", model.similarity(\"king\", \"men\"))\n",
        "print(\"queen, maid: \", model.similarity(\"queen\", \"maid\"))\n",
        "print(\"king, soldier: \", model.similarity(\"king\", \"soldier\"))\n",
        "print(\"king, mother: \", model.similarity(\"king\", \"mother\"))\n",
        "print(\"king, mom: \", model.similarity(\"king\", \"mom\"))\n",
        "print(\"mother, mom: \", model.similarity(\"mother\", \"mom\"))\n",
        "print(\"king, exclamation: \", model.similarity(\"king\", \"exclamation\"))"
      ],
      "metadata": {
        "colab": {
          "base_uri": "https://localhost:8080/"
        },
        "id": "5STeGQ97IcXo",
        "outputId": "917bc2f4-d21c-4f43-9cb7-60f7024933ef"
      },
      "execution_count": null,
      "outputs": [
        {
          "output_type": "stream",
          "name": "stdout",
          "text": [
            "Word pair  Similarity\n",
            "king, queen:  0.6510957\n",
            "king, kings:  0.71380454\n",
            "king, men:  0.10407638\n",
            "queen, maid:  0.32056925\n",
            "king, soldier:  0.14083737\n",
            "king, mother:  0.16005167\n",
            "king, mom:  0.16828167\n",
            "mother, mom:  0.7354605\n",
            "king, exclamation:  0.05090921\n"
          ]
        }
      ]
    },
    {
      "cell_type": "code",
      "source": [
        "print(model.most_similar(\"tower\", topn=5))"
      ],
      "metadata": {
        "colab": {
          "base_uri": "https://localhost:8080/"
        },
        "id": "1l7iJE7sJWYN",
        "outputId": "0583e1d7-18af-481c-fe5d-c5340b6d891d"
      },
      "execution_count": null,
      "outputs": [
        {
          "output_type": "stream",
          "name": "stdout",
          "text": [
            "[('towers', 0.8531750440597534), ('skyscraper', 0.6417425870895386), ('Tower', 0.639177143573761), ('spire', 0.594687819480896), ('responded_Understood_Atlasjet', 0.5931612253189087)]\n"
          ]
        }
      ]
    },
    {
      "cell_type": "code",
      "source": [
        "import numpy as np"
      ],
      "metadata": {
        "id": "zmGtQ_ZDKumX"
      },
      "execution_count": null,
      "outputs": []
    },
    {
      "cell_type": "code",
      "source": [
        "print(\"Vector difference between Uncle and Aunt: \", np.linalg.norm(model[\"Uncle\"] - model[\"Aunt\"]))\n",
        "print(\"Vector difference between Paper and Water: \", np.linalg.norm(model[\"Paper\"] - model[\"Water\"]))\n",
        "print(\"Vector difference between Paper and W: \", np.linalg.norm(model[\"Paper\"] - model[\"W\"]))"
      ],
      "metadata": {
        "colab": {
          "base_uri": "https://localhost:8080/"
        },
        "id": "Y_L-DtBbLA8t",
        "outputId": "3c946b3f-e6c8-4692-91fe-647aceca8e9e"
      },
      "execution_count": null,
      "outputs": [
        {
          "output_type": "stream",
          "name": "stdout",
          "text": [
            "Vector difference between Uncle and Aunt:  3.386418\n",
            "Vector difference between Paper and Water:  4.131314\n",
            "Vector difference between Paper and Wat:  4.086863\n"
          ]
        }
      ]
    },
    {
      "cell_type": "code",
      "source": [
        "\n"
      ],
      "metadata": {
        "id": "oYaC22y-LHnj"
      },
      "execution_count": null,
      "outputs": []
    }
  ]
}