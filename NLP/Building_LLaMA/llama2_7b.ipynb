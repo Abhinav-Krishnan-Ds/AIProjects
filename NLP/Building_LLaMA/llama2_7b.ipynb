{
 "cells": [
  {
   "cell_type": "code",
   "execution_count": 2,
   "metadata": {},
   "outputs": [],
   "source": [
    "import torch\n",
    "import torch.nn as nn\n",
    "import torch.nn.functional as F\n",
    "import math\n",
    "\n",
    "from dataclasses import dataclass\n",
    "from typing import Optional"
   ]
  },
  {
   "cell_type": "code",
   "execution_count": 4,
   "metadata": {},
   "outputs": [],
   "source": [
    "# Class to represent the model parameters\n",
    "\n",
    "@dataclass\n",
    "class ModelArgs:\n",
    "    dim: int = 4096\n",
    "    n_layers: int = 32\n",
    "    n_heads: int = 32                 # For the query\n",
    "    n_kv_heads: Optional[int] = None  # For the keys and values\n",
    "    vocab_size: int = -1              # Will be set when we load the tokenizer\n",
    "    multiple_of: int = 256            # These two will be used in feed forward network\n",
    "    ffn_dim_multiplyer: Optional[float] = None\n",
    "    norm_eps: float = 1e-5\n",
    "    max_batch_size: int = 32\n",
    "    max_seq_len: int = 2048\n",
    "    device: str = None"
   ]
  },
  {
   "cell_type": "code",
   "execution_count": 8,
   "metadata": {},
   "outputs": [],
   "source": [
    "# torch.arange(0, head_dim, 2).float()\n",
    "# The above code will generate numbers as [0, 2, 4, 6, 8, ..., head_dim - 2]\n",
    "# That list wont contain head dim\n",
    "\n",
    "# Consider the formuala\n",
    "# 2(i-1) for i = [1, 2, 3, 4, 5, ..., dim/2]\n",
    "# The above formula would generate numbers as [((1-1)*2), ((2-1)*2), ((3-1)*2), ..., ((dim/2 - 1)*2)]\n",
    "# Which is equivalent to [0, 2, 4, ..., dim-2]\n",
    "# This can be achieved from the code torch.arange(0, dim, 2).float()"
   ]
  },
  {
   "cell_type": "code",
   "execution_count": 9,
   "metadata": {},
   "outputs": [],
   "source": [
    "def precompute_theta_pos_frequencies(head_dim: int, seq_len: int, device: str, theta: float = 10000.0):\n",
    "\n",
    "    assert head_dim % 2 == 0, \"We can apply rotary position embeddings only to even dim token embeddings\"\n",
    "\n",
    "    #Now we build the theta parameters\n",
    "    # According to the formula theta_i = 10000 ^ (-2(i-1)/dim), i = [1, 2, ..., dim/2] \n",
    "    # shape: (head_dim / 2)\n",
    "    theta_numerator = torch.arange(0, head_dim, 2).float()\n",
    "    # shape -> (head_dim/2)\n",
    "    # The two in the above line is given by 2 the code for theta_numerator\n",
    "    theta = 1.0 / (theta ** (theta_numerator / head_dim)).to(device)\n",
    "\n",
    "    #Construct the positions ( the \"m\" parameter of the formula to convert the token embeddings into some form)\n",
    "    # shape -> (Seq_Len)\n",
    "    m = torch.arange(seq_len, device=device)\n",
    "\n",
    "    # Multiply each theta by each position using the outer product\n",
    "    # shape -> (Seq_Len) outer_product (Head_dim/2) -> (Seq_Len, Head_dim/2)\n",
    "\n",
    "    freqs = torch.outer(m, theta)\n",
    "    \n",
    "    # We can compute complex numbers in the polar form = R * exp(i * m * theta), where R = 1 as follows\n",
    "    # Shape -> (Seq_Len, head_dim/2) -> (Seq_Len, head_dim/2)\n",
    "    freqs_complex = torch.polar(torch.ones_like(freqs), freqs)\n",
    "\n",
    "    return freqs_complex"
   ]
  },
  {
   "cell_type": "code",
   "execution_count": null,
   "metadata": {},
   "outputs": [],
   "source": [
    "# The class below would represent the transformer block which consists of all the parts of llama model except the softmax block\n",
    "\n",
    "class Transformer(nn.Module):\n",
    "\n",
    "    def __init__(self, args: ModelArgs):\n",
    "        super().__init__()\n",
    "\n",
    "        assert args.vocab_size != -1, 'we confirm that the vocab size is set'\n",
    "\n",
    "        self.args = args\n",
    "        self.vocab_size = args.vocab_size\n",
    "        self.n_layers = args.n_layers\n",
    "        self.tok_embeddings = nn.Embedding(self.vocab_size, args.dim)\n",
    "        \n",
    "        self.layers = nn.ModuleList()\n",
    "        for _ in range(self.n_layers):\n",
    "            self.layers.append(EncoderBlock(args))\n",
    "        \n",
    "        self.norm = RMSNorm(args.dim, eps=args.norm_eps)\n",
    "        self.output = nn.Linear(args.dim, self.vocab_size, bias=False)\n",
    "\n",
    "        self.freqs_complex = precompute_theta_pos_frequencies(self.args.dim // self.args.n_heads, self.args.max_seq_len*2, device=self.args.device)\n",
    "\n",
    "    def forward(self, tokens: torch.Tensor, start_pos: int):\n",
    "        # (B, Seq_Len)\n",
    "        batch_size, seq_len = tokens.shape\n",
    "    \n",
    "        assert seq_len == 1, \"Only one token is passes to the model as we implement the KV cache\"\n",
    "\n",
    "        # (B, Seq_Len) -> (B, Seq_Len, dim)\n",
    "        h = self.tok_embeddings(tokens)\n",
    "\n",
    "        # Here we precompute some information related to positions that we then give to successive layers\n",
    "        #Retrieve the pairs (m, theta) corresponding to the positions [start_pos, start_pos]\n",
    "        freqs_complex = self.freqs_complex[start_pos:start_pos+seq_len]\n",
    "\n",
    "        # Consecutively apply all the encoder layers\n",
    "        for layer in self.layers:\n",
    "            h = layer(h, start_pos, freqs_complex)\n",
    "        \n",
    "        # Then we apply RMSNorm to the output that is obtained from all the encoder blocks\n",
    "        h = self.norm(h)\n",
    "\n",
    "        output = self.output(h).float()\n",
    "\n",
    "        return output\n",
    "\n",
    "\n"
   ]
  },
  {
   "cell_type": "code",
   "execution_count": null,
   "metadata": {},
   "outputs": [],
   "source": []
  }
 ],
 "metadata": {
  "kernelspec": {
   "display_name": "Python 3",
   "language": "python",
   "name": "python3"
  },
  "language_info": {
   "codemirror_mode": {
    "name": "ipython",
    "version": 3
   },
   "file_extension": ".py",
   "mimetype": "text/x-python",
   "name": "python",
   "nbconvert_exporter": "python",
   "pygments_lexer": "ipython3",
   "version": "3.10.12"
  }
 },
 "nbformat": 4,
 "nbformat_minor": 2
}
