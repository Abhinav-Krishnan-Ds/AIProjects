{
 "cells": [
  {
   "cell_type": "code",
   "execution_count": 25,
   "metadata": {},
   "outputs": [],
   "source": [
    "import tensorflow as tf\n",
    "import keras\n",
    "import numpy as np\n",
    "import pandas as pd\n",
    "import matplotlib.pyplot as plt\n",
    "import csv\n",
    "import os\n",
    "import cv2"
   ]
  },
  {
   "cell_type": "code",
   "execution_count": null,
   "metadata": {},
   "outputs": [],
   "source": []
  },
  {
   "cell_type": "code",
   "execution_count": 26,
   "metadata": {},
   "outputs": [],
   "source": [
    "#Initialization of selective search\n",
    "ss = cv2.ximgproc.segmentation.createSelectiveSearchSegmentation()"
   ]
  },
  {
   "cell_type": "code",
   "execution_count": 27,
   "metadata": {},
   "outputs": [],
   "source": [
    "#Path to images and folder with bounding boxes of all airplane locations in an image for all images\n",
    "images_path = \"/home/abhinav/Documents/Work/2 Hobby_projects/Datasets/Aiplanes_dataset_for_rcnn/Images\"\n",
    "label_path = \"/home/abhinav/Documents/Work/2 Hobby_projects/Datasets/Aiplanes_dataset_for_rcnn/Airplanes_Annotations\""
   ]
  },
  {
   "cell_type": "code",
   "execution_count": 28,
   "metadata": {},
   "outputs": [],
   "source": [
    "#there are 700 images with name starting with airplane, and 33 with numbers\n",
    "#to hold the image name and their bb of all airplane locations\n",
    "img_bb = {}"
   ]
  },
  {
   "cell_type": "code",
   "execution_count": 29,
   "metadata": {},
   "outputs": [],
   "source": [
    "for label in os.listdir(label_path):                        # It gives each element of label_path directory to here (label)\n",
    "    if label.split(\"_\")[0] == \"airplane\":                   # We are only considering these images\n",
    "        try:\n",
    "            file = pd.read_csv(label_path+\"/\"+label)        # Reading each csv file containing bb of each image\n",
    "            # print(\"label: \", label)\n",
    "            # print(\"len of file: \", len(file))\n",
    "            labels_for_image = []                           # To store the bb in integer format from csv\n",
    "            for row in file.iterrows():\n",
    "                # for k in row:\n",
    "                #     print(row[k][0].split(\" \"))\n",
    "                bb_each = list(row[1])[0].split(\" \")\n",
    "                for j in range(len(bb_each)):\n",
    "                    bb_each[j] = eval(bb_each[j])\n",
    "\n",
    "                labels_for_image.append(bb_each)            # Labels_for_image is the list with all bb of current image\n",
    "            img_bb[label.split(\".\")[0]] = labels_for_image  # We choose file name without jpg as key and labels_for_image as their value\n",
    "        except Exception as e:\n",
    "            print(e)\n",
    "            print(\"Error in :\", label)"
   ]
  },
  {
   "cell_type": "code",
   "execution_count": 30,
   "metadata": {},
   "outputs": [
    {
     "name": "stdout",
     "output_type": "stream",
     "text": [
      "Total images for training:  700\n"
     ]
    }
   ],
   "source": [
    "# img_bb is a dictionary that now contains image name as key and their true bb of each airplane as a list of lists as the value of dictionary\n",
    "print(\"Total images for training: \", len(img_bb))"
   ]
  },
  {
   "cell_type": "code",
   "execution_count": 31,
   "metadata": {},
   "outputs": [
    {
     "name": "stdout",
     "output_type": "stream",
     "text": [
      "Image name:  airplane_201\n",
      "Number of labels:  26\n",
      "Labels:  [[22, 78, 31, 90], [29, 69, 48, 81], [44, 65, 59, 76], [58, 57, 68, 70], [122, 16, 138, 26], [134, 9, 146, 21], [93, 35, 102, 46], [79, 41, 93, 56], [69, 48, 79, 59], [27, 110, 39, 121], [38, 102, 48, 111], [48, 97, 62, 105], [61, 89, 76, 97], [73, 82, 86, 91], [87, 75, 96, 84], [106, 69, 118, 79], [118, 53, 133, 65], [133, 47, 145, 58], [144, 39, 154, 48], [116, 238, 127, 253], [126, 232, 143, 248], [136, 225, 152, 241], [154, 216, 164, 226], [165, 209, 179, 219], [166, 220, 174, 230], [152, 229, 165, 237]]\n",
      "Image name:  airplane_407\n",
      "Number of labels:  3\n",
      "Labels:  [[30, 90, 78, 131], [143, 6, 190, 46], [200, 180, 253, 236]]\n",
      "Image name:  airplane_343\n",
      "Number of labels:  2\n",
      "Labels:  [[122, 153, 197, 247], [79, 5, 147, 98]]\n",
      "Image name:  airplane_520\n",
      "Number of labels:  4\n",
      "Labels:  [[63, 116, 92, 137], [107, 91, 132, 115], [140, 128, 165, 156], [176, 230, 202, 254]]\n"
     ]
    }
   ],
   "source": [
    "# To check how data is stored\n",
    "c = 0\n",
    "for i in img_bb:\n",
    "    if c == 4:\n",
    "        break\n",
    "    print(\"Image name: \", i)\n",
    "    print(\"Number of labels: \", len(img_bb[i]))\n",
    "    print(\"Labels: \", img_bb[i])\n",
    "    c += 1"
   ]
  },
  {
   "cell_type": "code",
   "execution_count": 32,
   "metadata": {},
   "outputs": [],
   "source": [
    "ele1n = \"\"\n",
    "elebb1 = []"
   ]
  },
  {
   "cell_type": "code",
   "execution_count": 33,
   "metadata": {},
   "outputs": [],
   "source": [
    "# To calculate the area of intersection\n",
    "def gt(bb1, bb2):\n",
    "    assert bb1['x1'] < bb1['x2']\n",
    "    assert bb1['y1'] < bb1['y2']\n",
    "    assert bb2['x1'] < bb2['x2']\n",
    "    assert bb2['y1'] < bb2['y2']\n",
    "    x_left = max(bb1['x1'], bb2['x1'])\n",
    "    y_top = max(bb1['y1'], bb2['y1'])\n",
    "    x_right = min(bb1['x2'], bb2['x2'])\n",
    "    y_bottom = min(bb1['y2'], bb2['y2'])\n",
    "    if x_right < x_left or y_bottom < y_top:\n",
    "        return 0.0\n",
    "    intersection_area = (x_right - x_left) * (y_bottom - y_top)\n",
    "    bb1_area = (bb1['x2'] - bb1['x1']) * (bb1['y2'] - bb1['y1'])\n",
    "    bb2_area = (bb2['x2'] - bb2['x1']) * (bb2['y2'] - bb2['y1'])\n",
    "    iou = intersection_area / float(bb1_area + bb2_area - intersection_area)\n",
    "    assert iou >= 0.0\n",
    "    assert iou <= 1.0\n",
    "    return iou"
   ]
  },
  {
   "cell_type": "code",
   "execution_count": null,
   "metadata": {},
   "outputs": [],
   "source": []
  },
  {
   "cell_type": "code",
   "execution_count": 35,
   "metadata": {},
   "outputs": [
    {
     "data": {
      "text/plain": [
       "'\\n1   Reading each image from folder\\n2   we consider only images starting with name airplane\\n3   Performing selective search\\n4   Taking each region proposal of ss, Each region propasal of ss is given as an array as [x, y, w, h]\\n        where (x, y) are top left corner coordinates of bb and w, h are width and height\\n5   Here we do not add width and height as the label data cause:\\n6   we downloaded has bb of the format [x1, y1, x2, y2]\\n        (x1, y1): top left corner coordinates\\n        (x2, y2): bottom right corner coordinates\\n7   Here iou is greater than 0.7, if we haven\\'t added 30 of this class to train_images:\\n        add the resized image of this proposed bounding box by selective search to train_images\\n\\n\\n\\nSteps involved in displaying an image in opencv:\\n    cv2.imshow(\"imout: \", imout)\\n    cv2.waitKey(0),\\n    cv2.destroyAllWindows()\\n\\n\\n'"
      ]
     },
     "execution_count": 35,
     "metadata": {},
     "output_type": "execute_result"
    }
   ],
   "source": [
    "'''\n",
    "1   Reading each image from folder\n",
    "2   we consider only images starting with name airplane\n",
    "3   Performing selective search\n",
    "4   Taking each region proposal of ss, Each region propasal of ss is given as an array as [x, y, w, h]\n",
    "        where (x, y) are top left corner coordinates of bb and w, h are width and height\n",
    "5   Here we do not add width and height as the label data cause:\n",
    "6   we downloaded has bb of the format [x1, y1, x2, y2]\n",
    "        (x1, y1): top left corner coordinates\n",
    "        (x2, y2): bottom right corner coordinates\n",
    "7   Here iou is greater than 0.7, if we haven't added 30 of this class to train_images:\n",
    "        add the resized image of this proposed bounding box by selective search to train_images\n",
    "\n",
    "\n",
    "\n",
    "Steps involved in displaying an image in opencv:\n",
    "    cv2.imshow(\"imout: \", imout)\n",
    "    cv2.waitKey(0),\n",
    "    cv2.destroyAllWindows()\n",
    "\n",
    "\n",
    "'''"
   ]
  },
  {
   "cell_type": "code",
   "execution_count": 61,
   "metadata": {},
   "outputs": [],
   "source": [
    "#we pass each image for selective search and calculate iou for each bb output of ss out of 2000 proposals\n",
    "\n",
    "x_new_images, y_new_labels = [], []\n",
    "no_images = 0\n",
    "no_images_to_be_used_for_extraction = 30\n",
    "total_images_extracted = 0\n",
    "for img in os.listdir(images_path):             # 1\n",
    "    if no_images == no_images_to_be_used_for_extraction:   # We are only 10 images, 30 resized images each for foreground and background are taken from each of these 10 images\n",
    "                                                # Total of 300 positive images and 300 negative samples are given for VGGNet to train\n",
    "        break\n",
    "    try:\n",
    "        if img.split(\"_\")[0] == \"airplane\":                              # 2\n",
    "\n",
    "            image = cv2.imread(os.path.join(images_path, img))\n",
    "\n",
    "            ss.setBaseImage(image)                                       # 3\n",
    "            ss.switchToSelectiveSearchFast(base_k=10)\n",
    "            ssresults = ss.process()\n",
    "            imout = image.copy()\n",
    "\n",
    "            # cv2.imshow(\"imout: \", imout)\n",
    "            # cv2.waitKey(0),\n",
    "            # cv2.destroyAllWindows()\n",
    "\n",
    "\n",
    "            # ele1n = os.path.join(images_path, img)\n",
    "\n",
    "            # In openCV, consider a square window facing us, \n",
    "            # its left side will be y axis and top side will be x axis\n",
    "            # top left corner is considered as (0, 0)\n",
    "\n",
    "            iou_07 = 0\n",
    "            iou_03 = 0\n",
    "            for i in ssresults:\n",
    "                x1, y1, w, h = i                                          # 4\n",
    "                bb2 = {\"x1\":x1, \"y1\":y1, \"x2\":x1+w, \"y2\":y1+h}            \n",
    "                img = img.split(\".\")[0]\n",
    "                for j in img_bb[img]:                                     # For each true bb in img_bb, we calculate iou for the bb region proposed by ss\n",
    "                    x, y, xn, yn = j                                      # 5\n",
    "                    bb1 = {\"x1\":x, \"y1\":y, \"x2\":xn, \"y2\":yn}              # 6\n",
    "                    iou = gt(bb1, bb2)                                    # Calculating iou\n",
    "                    if iou > 0.7 and iou_07 < 30:                         # 7\n",
    "                        # print(\"iou07: bb: x1, y1, w, h, x1+w, y1+h:\", x1, y1, w, h, x1+w, y1+h)\n",
    "                        timage = imout[y1:y1+h,x1:x1+w]\n",
    "                        resized = cv2.resize(timage, (224, 224), interpolation=cv2.INTER_AREA)\n",
    "                        x_new_images.append(resized)\n",
    "                        y_new_labels.append(1)\n",
    "                        iou_07 += 1\n",
    "                        # cv2.imshow(\"resized: \", resized)\n",
    "                        # cv2.waitKey(0)\n",
    "                        # cv2.destroyAllWindows()\n",
    "                        # cv2.rectangle(image, (bb1[\"x1\"], bb1[\"y1\"]), (bb1[\"x2\"], bb1[\"y2\"]), (255, 0, 0), 2)\n",
    "                        # cv2.rectangle(image, (bb2[\"x1\"], bb2[\"y1\"]), (bb2[\"x2\"], bb2[\"y2\"]), (0, 255, 0), 1)\n",
    "                    elif iou < 0.3 and iou_03 < 30:\n",
    "                        timage = imout[y1:y1+h, x1:x1+h]\n",
    "                        resized = cv2.resize(timage, (224, 224), interpolation=cv2.INTER_AREA)\n",
    "                        x_new_images.append(resized)\n",
    "                        y_new_labels.append(0)\n",
    "                        iou_03 += 1\n",
    "            # cv2.imshow(img, image)\n",
    "            # cv2.waitKey(0)\n",
    "            # cv2.destroyAllWindows()\n",
    "            # print(\"for image: \", img, \" there are _ iou07 and _ iou03: \", iou_07, iou_03)\n",
    "            total_images_extracted += iou_03 + iou_07\n",
    "        no_images += 1\n",
    "    except Exception as e:\n",
    "        print(e)\n",
    "        print(\"Error in image: \", img)\n",
    "        continue"
   ]
  },
  {
   "cell_type": "code",
   "execution_count": 37,
   "metadata": {},
   "outputs": [],
   "source": [
    "# These lines can display the image you want\n",
    "\n",
    "# i = cv2.imread(\"/home/abhinav/Documents/Work/2 Hobby_projects/Datasets/Aiplanes_dataset_for_rcnn/Images/airplane_343.jpg\")\n",
    "# cv2.imshow(\"image\", i)\n",
    "# cv2.waitKey(0)\n",
    "# cv2.destroyAllWindows()"
   ]
  },
  {
   "cell_type": "code",
   "execution_count": 62,
   "metadata": {},
   "outputs": [
    {
     "name": "stdout",
     "output_type": "stream",
     "text": [
      "total images extracted and resized:  1246\n",
      "len of x_new_images:  1246\n",
      "len of y_new_labels:  1246\n"
     ]
    }
   ],
   "source": [
    "# Now we have in total 1246 images of positive and negative samples mix to fine tune the next VGGNet model\n",
    "\n",
    "print(\"total images extracted and resized: \", total_images_extracted)\n",
    "print(\"len of x_new_images: \", len(x_new_images))\n",
    "print(\"len of y_new_labels: \", len(y_new_labels))"
   ]
  },
  {
   "cell_type": "code",
   "execution_count": 55,
   "metadata": {},
   "outputs": [],
   "source": [
    "# Displaying images of x_new_images resized images:\n",
    "\n",
    "# for index, i in enumerate(x_new_images):\n",
    "#     cv2.imshow(\"image: \" + str(y_new_labels[index]), i)\n",
    "#     cv2.waitKey(0)\n",
    "#     cv2.destroyAllWindows()"
   ]
  },
  {
   "cell_type": "code",
   "execution_count": null,
   "metadata": {},
   "outputs": [],
   "source": []
  },
  {
   "cell_type": "code",
   "execution_count": null,
   "metadata": {},
   "outputs": [],
   "source": []
  },
  {
   "cell_type": "code",
   "execution_count": null,
   "metadata": {},
   "outputs": [],
   "source": []
  },
  {
   "cell_type": "code",
   "execution_count": null,
   "metadata": {},
   "outputs": [],
   "source": []
  },
  {
   "cell_type": "code",
   "execution_count": null,
   "metadata": {},
   "outputs": [],
   "source": []
  }
 ],
 "metadata": {
  "kernelspec": {
   "display_name": "Python 3",
   "language": "python",
   "name": "python3"
  },
  "language_info": {
   "codemirror_mode": {
    "name": "ipython",
    "version": 3
   },
   "file_extension": ".py",
   "mimetype": "text/x-python",
   "name": "python",
   "nbconvert_exporter": "python",
   "pygments_lexer": "ipython3",
   "version": "3.10.12"
  }
 },
 "nbformat": 4,
 "nbformat_minor": 2
}
