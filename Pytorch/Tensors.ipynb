{
 "cells": [
  {
   "cell_type": "code",
   "execution_count": 110,
   "metadata": {},
   "outputs": [],
   "source": [
    "import torch\n",
    "import numpy as np"
   ]
  },
  {
   "cell_type": "code",
   "execution_count": 111,
   "metadata": {},
   "outputs": [
    {
     "name": "stdout",
     "output_type": "stream",
     "text": [
      "Tensor from data: tensor([[1, 2, 3, 4],\n",
      "        [5, 6, 7, 8]])\n"
     ]
    }
   ],
   "source": [
    "# Initializing a tensor\n",
    "\n",
    "# Directly from data\n",
    "\n",
    "data = [[1, 2, 3, 4], [5, 6, 7, 8]]\n",
    "x_data = torch.tensor(data)\n",
    "\n",
    "print(\"Tensor from data:\", x_data)"
   ]
  },
  {
   "cell_type": "code",
   "execution_count": 112,
   "metadata": {},
   "outputs": [
    {
     "name": "stdout",
     "output_type": "stream",
     "text": [
      "Tensor from np array:  tensor([[1, 2, 3, 4],\n",
      "        [5, 6, 7, 8]])\n"
     ]
    }
   ],
   "source": [
    "# From a numpy array\n",
    "\n",
    "np_data = np.array(data)\n",
    "np_data = torch.from_numpy(np_data)\n",
    "\n",
    "print(\"Tensor from np array: \", np_data)"
   ]
  },
  {
   "cell_type": "code",
   "execution_count": 113,
   "metadata": {},
   "outputs": [
    {
     "name": "stdout",
     "output_type": "stream",
     "text": [
      "Tensor created from a previous tensor with all values as one: \n",
      " tensor([[1, 1, 1, 1],\n",
      "        [1, 1, 1, 1]]) \n",
      "\n",
      "Tensor created from a previous tensor with random values: \n",
      " tensor([[0.9861, 0.2013, 0.6748, 0.8993],\n",
      "        [0.0785, 0.8546, 0.9484, 0.3654]], dtype=torch.float64) \n",
      "\n"
     ]
    }
   ],
   "source": [
    "x_ones = torch.ones_like(x_data)                      # Retains the structure of x_data\n",
    "print(f\"Tensor created from a previous tensor with all values as one: \\n {x_ones} \\n\")\n",
    "\n",
    "x_rand = torch.rand_like(x_data, dtype=float)         # Overrides the dtype of x_data\n",
    "print(f\"Tensor created from a previous tensor with random values: \\n {x_rand} \\n\")"
   ]
  },
  {
   "cell_type": "code",
   "execution_count": 114,
   "metadata": {},
   "outputs": [
    {
     "name": "stdout",
     "output_type": "stream",
     "text": [
      "rand tensor: \n",
      " tensor([[0.4979, 0.0316, 0.9400],\n",
      "        [0.4695, 0.0048, 0.4237]]) \n",
      "\n",
      "ones tensor: \n",
      " tensor([[1, 1, 1],\n",
      "        [1, 1, 1]]) \n",
      "\n",
      "zeros tensor: \n",
      " tensor([[0., 0., 0.],\n",
      "        [0., 0., 0.]]) \n",
      "\n"
     ]
    }
   ],
   "source": [
    "shape = (2, 3,)\n",
    "rand_tensor = torch.rand(shape)\n",
    "ones_tensor = torch.ones(shape, dtype=int)\n",
    "zeros_tensor = torch.zeros(shape)\n",
    "\n",
    "print(f\"rand tensor: \\n {rand_tensor} \\n\")\n",
    "print(f\"ones tensor: \\n {ones_tensor} \\n\")\n",
    "print(f\"zeros tensor: \\n {zeros_tensor} \\n\")"
   ]
  },
  {
   "cell_type": "code",
   "execution_count": 115,
   "metadata": {},
   "outputs": [
    {
     "name": "stdout",
     "output_type": "stream",
     "text": [
      "rand tensor: \n",
      " tensor([[0.5849, 0.5748, 0.6566],\n",
      "        [0.1519, 0.1587, 0.9133]]) \n",
      "\n",
      "ones tensor: \n",
      " tensor([[1, 1, 1],\n",
      "        [1, 1, 1]]) \n",
      "\n",
      "zeros tensor: \n",
      " tensor([[0., 0., 0.],\n",
      "        [0., 0., 0.]]) \n",
      "\n"
     ]
    }
   ],
   "source": [
    "shape = (2, 3)\n",
    "rand_tensor = torch.rand(shape)\n",
    "ones_tensor = torch.ones(shape, dtype=int)\n",
    "zeros_tensor = torch.zeros(shape)\n",
    "\n",
    "print(f\"rand tensor: \\n {rand_tensor} \\n\")\n",
    "print(f\"ones tensor: \\n {ones_tensor} \\n\")\n",
    "print(f\"zeros tensor: \\n {zeros_tensor} \\n\")"
   ]
  },
  {
   "cell_type": "code",
   "execution_count": 116,
   "metadata": {},
   "outputs": [
    {
     "name": "stdout",
     "output_type": "stream",
     "text": [
      "shape of tensor:  torch.Size([2, 3])\n",
      "dtype of tensor:  torch.float32\n",
      "device on of tenosr:  cpu\n"
     ]
    }
   ],
   "source": [
    "# Attributs of a tensor\n",
    "\n",
    "att_tensor = torch.rand((2, 3))\n",
    "\n",
    "print(\"shape of tensor: \", att_tensor.shape)\n",
    "print(\"dtype of tensor: \", att_tensor.dtype)\n",
    "print(\"device on of tenosr: \", att_tensor.device)"
   ]
  },
  {
   "cell_type": "code",
   "execution_count": 117,
   "metadata": {},
   "outputs": [
    {
     "name": "stdout",
     "output_type": "stream",
     "text": [
      "shape of tensor:  torch.Size([2, 3])\n",
      "dtype of tensor:  torch.float32\n",
      "device on of tenosr:  cpu\n"
     ]
    }
   ],
   "source": [
    "att_tensor = torch.rand(2, 3)\n",
    "\n",
    "print(\"shape of tensor: \", att_tensor.shape)\n",
    "print(\"dtype of tensor: \", att_tensor.dtype)\n",
    "print(\"device on of tenosr: \", att_tensor.device)"
   ]
  },
  {
   "cell_type": "code",
   "execution_count": 118,
   "metadata": {},
   "outputs": [],
   "source": [
    "if torch.cuda.is_available():\n",
    "    att_tensor = att_tensor.to(\"cuda\")"
   ]
  },
  {
   "cell_type": "code",
   "execution_count": 119,
   "metadata": {},
   "outputs": [
    {
     "name": "stdout",
     "output_type": "stream",
     "text": [
      "tensor:  tensor([[1, 2, 3],\n",
      "        [4, 5, 6]])\n",
      "First row: \n",
      " tensor([1, 2, 3]) \n",
      "\n",
      "First column: \n",
      " tensor([1, 4]) \n",
      "\n",
      "Last column: \n",
      " tensor([3, 6]) \n",
      "\n",
      "Second way of printing last coloumn:  tensor([3, 6])\n"
     ]
    }
   ],
   "source": [
    "tensor = torch.tensor([[1, 2, 3], [4, 5, 6]])\n",
    "print(\"tensor: \", tensor)\n",
    "print(f\"First row: \\n {tensor[0]} \\n\")\n",
    "print(f\"First column: \\n {tensor[:, 0]} \\n\")\n",
    "print(f\"Last column: \\n {tensor[..., -1]} \\n\")\n",
    "print(\"Second way of printing last coloumn: \", tensor[..., -1])"
   ]
  },
  {
   "cell_type": "code",
   "execution_count": 120,
   "metadata": {},
   "outputs": [
    {
     "data": {
      "text/plain": [
       "tensor([[1, 2, 3, 4],\n",
       "        [5, 6, 7, 8]])"
      ]
     },
     "execution_count": 120,
     "metadata": {},
     "output_type": "execute_result"
    }
   ],
   "source": [
    "join_tensor = torch.tensor([[1, 2, 3, 4], [5, 6, 7, 8]])\n",
    "\n",
    "join_tensor"
   ]
  },
  {
   "cell_type": "code",
   "execution_count": 121,
   "metadata": {},
   "outputs": [
    {
     "data": {
      "text/plain": [
       "tensor([[1, 2, 3, 4, 1, 2, 3, 4, 1, 2, 3, 4],\n",
       "        [5, 6, 7, 8, 5, 6, 7, 8, 5, 6, 7, 8]])"
      ]
     },
     "execution_count": 121,
     "metadata": {},
     "output_type": "execute_result"
    }
   ],
   "source": [
    "joined_tensor = torch.cat([join_tensor, join_tensor, join_tensor], dim=1)\n",
    "\n",
    "joined_tensor"
   ]
  },
  {
   "cell_type": "code",
   "execution_count": 122,
   "metadata": {},
   "outputs": [
    {
     "data": {
      "text/plain": [
       "tensor([[1, 2, 3, 4],\n",
       "        [5, 6, 7, 8],\n",
       "        [1, 2, 3, 4],\n",
       "        [5, 6, 7, 8],\n",
       "        [1, 2, 3, 4],\n",
       "        [5, 6, 7, 8]])"
      ]
     },
     "execution_count": 122,
     "metadata": {},
     "output_type": "execute_result"
    }
   ],
   "source": [
    "joined_tensor1 = torch.cat([join_tensor, join_tensor, join_tensor], dim=0)\n",
    "\n",
    "\n",
    "joined_tensor1"
   ]
  },
  {
   "cell_type": "code",
   "execution_count": 123,
   "metadata": {},
   "outputs": [
    {
     "name": "stdout",
     "output_type": "stream",
     "text": [
      "Y1: \n",
      " tensor([[4., 4., 4., 4.],\n",
      "        [4., 4., 4., 4.],\n",
      "        [4., 4., 4., 4.],\n",
      "        [4., 4., 4., 4.]]) \n",
      "\n",
      "Y2: \n",
      " tensor([[4., 4., 4., 4.],\n",
      "        [4., 4., 4., 4.],\n",
      "        [4., 4., 4., 4.],\n",
      "        [4., 4., 4., 4.]]) \n",
      "\n",
      "Y3: \n",
      " tensor([[4., 4., 4., 4.],\n",
      "        [4., 4., 4., 4.],\n",
      "        [4., 4., 4., 4.],\n",
      "        [4., 4., 4., 4.]]) \n",
      "\n"
     ]
    }
   ],
   "source": [
    "# To perform matrix multiplication\n",
    "\n",
    "tensor = torch.ones(4, 4)\n",
    "y1 = tensor @ tensor.T\n",
    "y2 = tensor.matmul(tensor.T)\n",
    "y3 = torch.rand_like(y1)\n",
    "torch.matmul(tensor, tensor.T, out=y3)\n",
    "\n",
    "print(f\"Y1: \\n {y1} \\n\")\n",
    "print(f\"Y2: \\n {y2} \\n\")\n",
    "print(f\"Y3: \\n {y3} \\n\")"
   ]
  },
  {
   "cell_type": "code",
   "execution_count": 124,
   "metadata": {},
   "outputs": [
    {
     "name": "stdout",
     "output_type": "stream",
     "text": [
      "z1: \n",
      " tensor([[1., 1., 1., 1.],\n",
      "        [1., 1., 1., 1.],\n",
      "        [1., 1., 1., 1.],\n",
      "        [1., 1., 1., 1.]]) \n",
      "\n",
      "z2: \n",
      " tensor([[1., 1., 1., 1.],\n",
      "        [1., 1., 1., 1.],\n",
      "        [1., 1., 1., 1.],\n",
      "        [1., 1., 1., 1.]]) \n",
      "\n",
      "z3: \n",
      " tensor([[1., 1., 1., 1.],\n",
      "        [1., 1., 1., 1.],\n",
      "        [1., 1., 1., 1.],\n",
      "        [1., 1., 1., 1.]]) \n",
      "\n"
     ]
    }
   ],
   "source": [
    "# To perform element wise multiplication\n",
    "\n",
    "z1 = tensor * tensor\n",
    "z2 = tensor.mul(tensor)\n",
    "z3 = torch.rand_like(z1)\n",
    "torch.mul(tensor, tensor, out=z3)\n",
    "\n",
    "print(f\"z1: \\n {z1} \\n\")\n",
    "print(f\"z2: \\n {z2} \\n\")\n",
    "print(f\"z3: \\n {z3} \\n\")"
   ]
  },
  {
   "cell_type": "code",
   "execution_count": 125,
   "metadata": {},
   "outputs": [
    {
     "name": "stdout",
     "output_type": "stream",
     "text": [
      "agg item is: 16.0 and its type is: <class 'float'>\n"
     ]
    }
   ],
   "source": [
    "agg = tensor.sum()\n",
    "agg_item = agg.item()\n",
    "\n",
    "print(f\"agg item is: {agg_item} and its type is: {type(agg_item)}\")"
   ]
  },
  {
   "cell_type": "code",
   "execution_count": 126,
   "metadata": {},
   "outputs": [
    {
     "name": "stdout",
     "output_type": "stream",
     "text": [
      "tensor([[1., 1., 1., 1.],\n",
      "        [1., 1., 1., 1.],\n",
      "        [1., 1., 1., 1.],\n",
      "        [1., 1., 1., 1.]])\n",
      "tensor([[6., 6., 6., 6.],\n",
      "        [6., 6., 6., 6.],\n",
      "        [6., 6., 6., 6.],\n",
      "        [6., 6., 6., 6.]])\n"
     ]
    }
   ],
   "source": [
    "# in-place addition operation\n",
    "\n",
    "print(tensor)\n",
    "\n",
    "tensor.add_(5)\n",
    "\n",
    "print(tensor)"
   ]
  },
  {
   "cell_type": "code",
   "execution_count": 127,
   "metadata": {},
   "outputs": [
    {
     "name": "stdout",
     "output_type": "stream",
     "text": [
      "tensor:  tensor([1., 1., 1., 1.])\n",
      "numpy:  [1. 1. 1. 1.]\n"
     ]
    }
   ],
   "source": [
    "t = torch.ones(4)\n",
    "print(\"tensor: \", t)\n",
    "n = t.numpy()\n",
    "print(\"numpy: \", n)"
   ]
  },
  {
   "cell_type": "code",
   "execution_count": 128,
   "metadata": {},
   "outputs": [
    {
     "name": "stdout",
     "output_type": "stream",
     "text": [
      "tensor:  tensor([6., 6., 6., 6.])\n",
      "numpy:  [6. 6. 6. 6.]\n"
     ]
    }
   ],
   "source": [
    "t.add_(5)\n",
    "print(\"tensor: \", t)\n",
    "print(\"numpy: \", n)"
   ]
  },
  {
   "cell_type": "code",
   "execution_count": 129,
   "metadata": {},
   "outputs": [
    {
     "name": "stdout",
     "output_type": "stream",
     "text": [
      "numpy:  [1. 1. 1. 1. 1.]\n",
      "tensor:  tensor([1., 1., 1., 1., 1.], dtype=torch.float64)\n"
     ]
    }
   ],
   "source": [
    "nu = np.ones(5)\n",
    "te = torch.from_numpy(nu)\n",
    "print(\"numpy: \", nu)\n",
    "print(\"tensor: \", te)"
   ]
  },
  {
   "cell_type": "code",
   "execution_count": 130,
   "metadata": {},
   "outputs": [
    {
     "name": "stdout",
     "output_type": "stream",
     "text": [
      "numpy:  [2. 2. 2. 2. 2.]\n",
      "tensor:  tensor([2., 2., 2., 2., 2.], dtype=torch.float64)\n"
     ]
    }
   ],
   "source": [
    "np.add(nu, 1, out=nu)\n",
    "print(\"numpy: \", nu)\n",
    "print(\"tensor: \", te)"
   ]
  },
  {
   "cell_type": "code",
   "execution_count": 131,
   "metadata": {},
   "outputs": [
    {
     "data": {
      "text/plain": [
       "tensor([[ 1,  2,  3,  4,  5],\n",
       "        [ 6,  7,  8,  9, 10],\n",
       "        [11, 12, 13, 14, 15]])"
      ]
     },
     "execution_count": 131,
     "metadata": {},
     "output_type": "execute_result"
    }
   ],
   "source": [
    "src = torch.arange(1, 16).reshape((3, 5, ))\n",
    "\n",
    "src"
   ]
  },
  {
   "cell_type": "code",
   "execution_count": 132,
   "metadata": {},
   "outputs": [
    {
     "data": {
      "text/plain": [
       "tensor([[0, 1, 2]])"
      ]
     },
     "execution_count": 132,
     "metadata": {},
     "output_type": "execute_result"
    }
   ],
   "source": [
    "idx = torch.tensor([[0, 1, 2]])\n",
    "\n",
    "idx"
   ]
  },
  {
   "cell_type": "code",
   "execution_count": 133,
   "metadata": {},
   "outputs": [
    {
     "data": {
      "text/plain": [
       "tensor([[0, 0, 0, 0, 0],\n",
       "        [0, 0, 0, 0, 0],\n",
       "        [0, 0, 0, 0, 0]])"
      ]
     },
     "execution_count": 133,
     "metadata": {},
     "output_type": "execute_result"
    }
   ],
   "source": [
    "st = torch.zeros(3, 5, dtype=src.dtype)\n",
    "\n",
    "st"
   ]
  },
  {
   "cell_type": "code",
   "execution_count": 134,
   "metadata": {},
   "outputs": [
    {
     "data": {
      "text/plain": [
       "tensor([[1, 0, 0, 0, 0],\n",
       "        [0, 2, 0, 0, 0],\n",
       "        [0, 0, 3, 0, 0]])"
      ]
     },
     "execution_count": 134,
     "metadata": {},
     "output_type": "execute_result"
    }
   ],
   "source": [
    "st.scatter_(0, idx, src)"
   ]
  },
  {
   "cell_type": "code",
   "execution_count": 135,
   "metadata": {},
   "outputs": [
    {
     "data": {
      "text/plain": [
       "tensor([[1, 2, 3, 0, 0],\n",
       "        [0, 2, 0, 0, 0],\n",
       "        [0, 0, 3, 0, 0]])"
      ]
     },
     "execution_count": 135,
     "metadata": {},
     "output_type": "execute_result"
    }
   ],
   "source": [
    "st.scatter_(1, idx, src)"
   ]
  },
  {
   "cell_type": "code",
   "execution_count": 136,
   "metadata": {},
   "outputs": [
    {
     "data": {
      "text/plain": [
       "tensor([[0, 1, 2],\n",
       "        [1, 2, 3],\n",
       "        [2, 3, 4]])"
      ]
     },
     "execution_count": 136,
     "metadata": {},
     "output_type": "execute_result"
    }
   ],
   "source": [
    "idx2 = torch.tensor([[0, 1, 2], [1, 2, 3], [2, 3, 4]])\n",
    "\n",
    "idx2"
   ]
  },
  {
   "cell_type": "code",
   "execution_count": 137,
   "metadata": {},
   "outputs": [
    {
     "data": {
      "text/plain": [
       "tensor([[ 1,  2,  3,  0,  0],\n",
       "        [ 0,  6,  7,  8,  0],\n",
       "        [ 0,  0, 11, 12, 13]])"
      ]
     },
     "execution_count": 137,
     "metadata": {},
     "output_type": "execute_result"
    }
   ],
   "source": [
    "st.scatter_(1, idx2, src)"
   ]
  },
  {
   "cell_type": "code",
   "execution_count": 138,
   "metadata": {},
   "outputs": [
    {
     "name": "stdout",
     "output_type": "stream",
     "text": [
      "tensor([[ 1,  2,  3,  4,  5],\n",
      "        [ 6,  7,  8,  9, 10]])\n",
      "tensor([[0, 1]])\n"
     ]
    }
   ],
   "source": [
    "p = torch.arange(1, 11).reshape(2, 5)\n",
    "q = torch.tensor([[0, 1]])\n",
    "print(p)\n",
    "print(q)"
   ]
  },
  {
   "cell_type": "code",
   "execution_count": 139,
   "metadata": {},
   "outputs": [
    {
     "data": {
      "text/plain": [
       "tensor([[0, 0, 0, 0, 0],\n",
       "        [0, 0, 0, 0, 0]])"
      ]
     },
     "execution_count": 139,
     "metadata": {},
     "output_type": "execute_result"
    }
   ],
   "source": [
    "s = torch.zeros(2, 5, dtype=p.dtype)\n",
    "\n",
    "s"
   ]
  },
  {
   "cell_type": "code",
   "execution_count": 140,
   "metadata": {},
   "outputs": [
    {
     "data": {
      "text/plain": [
       "tensor([[1, 0, 0, 0, 0],\n",
       "        [0, 2, 0, 0, 0]])"
      ]
     },
     "execution_count": 140,
     "metadata": {},
     "output_type": "execute_result"
    }
   ],
   "source": [
    "s.scatter_(0, q, p)"
   ]
  },
  {
   "cell_type": "code",
   "execution_count": 141,
   "metadata": {},
   "outputs": [
    {
     "data": {
      "text/plain": [
       "tensor([[4, 0, 0, 0, 3],\n",
       "        [7, 3, 0, 2, 5],\n",
       "        [0, 6, 5, 7, 0],\n",
       "        [0, 0, 4, 0, 0],\n",
       "        [0, 0, 0, 0, 0]])"
      ]
     },
     "execution_count": 141,
     "metadata": {},
     "output_type": "execute_result"
    }
   ],
   "source": [
    "y = torch.tensor([ [4, 3, 5, 2, 3], [7, 6, 4, 7, 5], [6, 9, 0, 5, 7], [4, 6, 5, 8, 3], [2, 4, 3, 7, 5] ])\n",
    "i = torch.tensor([ [0, 1, 2, 1, 0], [1, 2, 3, 2, 1] ])\n",
    "g = torch.zeros(5, 5, dtype=y.dtype).scatter_(0, i, y)\n",
    "\n",
    "g"
   ]
  },
  {
   "cell_type": "code",
   "execution_count": 142,
   "metadata": {},
   "outputs": [
    {
     "data": {
      "text/plain": [
       "tensor([[4, 3, 5, 2, 3],\n",
       "        [5, 7, 4, 6, 7],\n",
       "        [5, 0, 6, 9, 7],\n",
       "        [0, 0, 0, 0, 0],\n",
       "        [0, 0, 0, 0, 0]])"
      ]
     },
     "execution_count": 142,
     "metadata": {},
     "output_type": "execute_result"
    }
   ],
   "source": [
    "y = torch.tensor([ [4, 3, 5, 2, 3], [7, 6, 4, 7, 5], [6, 9, 0, 5, 7], [4, 6, 5, 8, 3], [2, 4, 3, 7, 5] ])\n",
    "i = torch.tensor([ [0, 1, 2, 3, 4], [4, 3, 2, 1, 0], [2, 3, 1, 0, 4] ])\n",
    "g = torch.zeros(5, 5, dtype=y.dtype).scatter_(1, i, y)\n",
    "\n",
    "g"
   ]
  },
  {
   "cell_type": "code",
   "execution_count": 143,
   "metadata": {},
   "outputs": [
    {
     "data": {
      "text/plain": [
       "tensor([[  0, 100,   0,   0,   0,   0],\n",
       "        [  0,   0, 106,   0,   0,   0],\n",
       "        [  0,   0,   0, 112,   0,   0],\n",
       "        [  0,   0,   0,   0, 118,   0],\n",
       "        [  0,   0,   0,   0,   0, 124]])"
      ]
     },
     "execution_count": 143,
     "metadata": {},
     "output_type": "execute_result"
    }
   ],
   "source": [
    "src = torch.arange(100, 130).reshape(5, 6)\n",
    "indx = torch.tensor([ [1], [2], [3], [4], [5] ])\n",
    "srcout = torch.zeros(5, 6, dtype=src.dtype).scatter_(1, indx, src)\n",
    "\n",
    "srcout"
   ]
  },
  {
   "cell_type": "code",
   "execution_count": 147,
   "metadata": {},
   "outputs": [
    {
     "data": {
      "text/plain": [
       "tensor([0., 0., 0., 0., 0., 1., 0., 0., 0., 0.])"
      ]
     },
     "execution_count": 147,
     "metadata": {},
     "output_type": "execute_result"
    }
   ],
   "source": [
    "src = torch.zeros(10)\n",
    "indx = torch.tensor([5])\n",
    "srcout = torch.zeros(10, dtype=src.dtype).scatter_(0, indx, value=1)\n",
    "\n",
    "srcout"
   ]
  },
  {
   "cell_type": "code",
   "execution_count": null,
   "metadata": {},
   "outputs": [],
   "source": []
  }
 ],
 "metadata": {
  "kernelspec": {
   "display_name": "Python 3",
   "language": "python",
   "name": "python3"
  },
  "language_info": {
   "codemirror_mode": {
    "name": "ipython",
    "version": 3
   },
   "file_extension": ".py",
   "mimetype": "text/x-python",
   "name": "python",
   "nbconvert_exporter": "python",
   "pygments_lexer": "ipython3",
   "version": "3.10.12"
  }
 },
 "nbformat": 4,
 "nbformat_minor": 2
}
