{
 "cells": [
  {
   "cell_type": "code",
   "execution_count": 1,
   "metadata": {},
   "outputs": [],
   "source": [
    "import os\n",
    "import pandas as pd\n",
    "import torch\n",
    "import matplotlib.pyplot as plt\n",
    "import ubyte\n",
    "import idx2numpy\n",
    "\n",
    "from torchvision.io import read_image\n",
    "from torch.utils.data import Dataset\n",
    "from torch.utils.data import DataLoader\n",
    "from torchvision import datasets, transforms\n",
    "from torchvision.transforms import ToTensor, Lambda\n"
   ]
  },
  {
   "cell_type": "code",
   "execution_count": 2,
   "metadata": {},
   "outputs": [],
   "source": [
    "# This is the code to convert a ubyte data to images and labels to a directory\n",
    "\n",
    "# # ubyte.decode_idx3_ubyte(\"/home/abhinav/Documents/Work/2 Hobby_projects/Datasets/FashionMNIST/FashionMNIST/raw/train-labels-idx1-ubyte\")\n",
    "# import os\n",
    "# import numpy as np\n",
    "# from PIL import Image\n",
    "\n",
    "# def ubyte_to_images(ubyte_file, label_file, output_folder, image_size=(28, 28)):\n",
    "#     \"\"\"\n",
    "#     Convert ubyte image data to individual image files.\n",
    "    \n",
    "#     Args:\n",
    "#         ubyte_file (str): Path to the .ubyte file containing images.\n",
    "#         label_file (str): Path to the .ubyte file containing labels.\n",
    "#         output_folder (str): Directory to save the extracted images.\n",
    "#         image_size (tuple): The size of each image (e.g., (28, 28) for MNIST).\n",
    "#     \"\"\"\n",
    "#     # Create output folder if it doesn't exist\n",
    "#     os.makedirs(output_folder, exist_ok=True)\n",
    "\n",
    "#     # Read image data\n",
    "#     with open(ubyte_file, 'rb') as img_file:\n",
    "#         img_file.read(16)  # Skip the header\n",
    "#         images = np.frombuffer(img_file.read(), dtype=np.uint8)\n",
    "#         images = images.reshape(-1, *image_size)\n",
    "\n",
    "#     # Read label data\n",
    "#     with open(label_file, 'rb') as lbl_file:\n",
    "#         lbl_file.read(8)  # Skip the header\n",
    "#         labels = np.frombuffer(lbl_file.read(), dtype=np.uint8)\n",
    "\n",
    "#     # Save images to the output folder\n",
    "#     for idx, (image, label) in enumerate(zip(images, labels)):\n",
    "#         # Create label folder\n",
    "#         label_folder = os.path.join(output_folder, str(label))\n",
    "#         os.makedirs(label_folder, exist_ok=True)\n",
    "\n",
    "#         # Save image as PNG\n",
    "#         img = Image.fromarray(image)\n",
    "#         img.save(os.path.join(label_folder, f\"{idx}.png\"))\n",
    "\n",
    "#     print(f\"Images successfully saved to {output_folder}\")\n",
    "\n",
    "# # Example usage\n",
    "# ubyte_file_path = '/home/abhinav/Documents/Work/2 Hobby_projects/Datasets/FashionMNIST/FashionMNIST/raw/train-images-idx3-ubyte'  # Replace with your .ubyte image file\n",
    "# label_file_path = '/home/abhinav/Documents/Work/2 Hobby_projects/Datasets/FashionMNIST/FashionMNIST/raw/train-labels-idx1-ubyte'  # Replace with your .ubyte label file\n",
    "# output_directory = '/home/abhinav/Documents/Work/2 Hobby_projects/Datasets/FashionMNIST/FashionMNIST/data_train'          # Replace with your desired output folder\n",
    "\n",
    "# ubyte_to_images(ubyte_file_path, label_file_path, output_directory)\n",
    "\n",
    "# ubyte_file_path = '/home/abhinav/Documents/Work/2 Hobby_projects/Datasets/FashionMNIST/FashionMNIST/raw/t10k-images-idx3-ubyte'  # Replace with your .ubyte image file\n",
    "# label_file_path = '/home/abhinav/Documents/Work/2 Hobby_projects/Datasets/FashionMNIST/FashionMNIST/raw/t10k-labels-idx1-ubyte'  # Replace with your .ubyte label file\n",
    "# output_directory = '/home/abhinav/Documents/Work/2 Hobby_projects/Datasets/FashionMNIST/FashionMNIST/data_test'          # Replace with your desired output folder\n",
    "\n",
    "# ubyte_to_images(ubyte_file_path, label_file_path, output_directory)\n"
   ]
  },
  {
   "cell_type": "code",
   "execution_count": 3,
   "metadata": {},
   "outputs": [],
   "source": [
    "num_classes = 10"
   ]
  },
  {
   "cell_type": "code",
   "execution_count": 4,
   "metadata": {},
   "outputs": [],
   "source": [
    "# This is the way to download dataset from prebuilt datasets of pytorch\n",
    "\n",
    "# train_data = datasets.FashionMNIST(\n",
    "#     root=\"/home/abhinav/Documents/Work/2 Hobby_projects/AIProjects/Pytorch/Data/FashionMNIST/raw/train-images-idx3-ubyte\",\n",
    "#     train=True,\n",
    "#     download=False,\n",
    "#     transform=ToTensor(),\n",
    "#     target_transform=Lambda(lambda y: torch.zeros(10, dtype=torch.float).scatter_(0, torch.tensor(y), value=1))\n",
    "# )\n",
    "\n",
    "# test_data = datasets.FashionMNIST(\n",
    "#     root=\"Data/FashionMNIST\",\n",
    "#     train=False,\n",
    "#     download=False,\n",
    "#     transform=ToTensor()\n",
    "# )"
   ]
  },
  {
   "cell_type": "code",
   "execution_count": 5,
   "metadata": {},
   "outputs": [],
   "source": [
    "# class CustomImageDataset(Dataset):\n",
    "#     def __init__(self, annotations_file, img_dir, transform=None, target_transform=None):\n",
    "#         self.img_labels = pd.read_csv(annotations_file)\n",
    "#         self.img_dir = img_dir\n",
    "#         self.transform = transform\n",
    "#         self.target_transform = target_transform\n",
    "\n",
    "#     def __len__(self):\n",
    "#         return len(self.img_labels)\n",
    "\n",
    "#     def __getitem__(self, idx):\n",
    "#         img_path = os.path.join(self.img_dir, self.img_labels.iloc[idx, 0])\n",
    "#         image = read_image(img_path)\n",
    "#         label = self.img_labels.iloc[idx, 1]\n",
    "#         if self.transform:\n",
    "#             image = self.transform(image)\n",
    "#         if self.target_transform:\n",
    "#             label = self.target_transform(label)\n",
    "#         return image, label"
   ]
  },
  {
   "cell_type": "code",
   "execution_count": 6,
   "metadata": {},
   "outputs": [],
   "source": [
    "# train_data = CustomImageDataset(\"/home/abhinav/Documents/Work/2 Hobby_projects/Datasets/FashionMNIST/FashionMNIST/raw/train-labels-idx1-ubyte\", \n",
    "#                                 \"/home/abhinav/Documents/Work/2 Hobby_projects/Datasets/FashionMNIST/FashionMNIST/raw/train-images-idx3-ubyte\", \n",
    "#                                 ToTensor(),\n",
    "#                                 Lambda(lambda y: torch.zeros(10, dtype=torch.float).scatter_(0, torch.tensor(y), value=1))\n",
    "#                                 )\n",
    "\n",
    "# test_data = CustomImageDataset(\"/home/abhinav/Documents/Work/2 Hobby_projects/Datasets/FashionMNIST/FashionMNIST/raw/t10k-labels-idx1-ubyte\", \n",
    "#                                 \"/home/abhinav/Documents/Work/2 Hobby_projects/Datasets/FashionMNIST/FashionMNIST/raw/t10k-images-idx3-ubyte\", \n",
    "#                                 ToTensor(),\n",
    "#                                 Lambda(lambda y: torch.zeros(10, dtype=torch.float).scatter_(0, torch.tensor(y), value=1))\n",
    "#                                 )"
   ]
  },
  {
   "cell_type": "code",
   "execution_count": 7,
   "metadata": {},
   "outputs": [],
   "source": [
    "labels_map = {\n",
    "    0: \"T-Shirt\",\n",
    "    1: \"Trouser\",\n",
    "    2: \"Pullover\",\n",
    "    3: \"Dress\",\n",
    "    4: \"Coat\",\n",
    "    5: \"Sandal\",\n",
    "    6: \"Shirt\",\n",
    "    7: \"Sneaker\",\n",
    "    8: \"Bag\",\n",
    "    9: \"Ankle Boot\",\n",
    "}"
   ]
  },
  {
   "cell_type": "code",
   "execution_count": 8,
   "metadata": {},
   "outputs": [],
   "source": [
    "train_dataset_dir = '/home/abhinav/Documents/Work/2 Hobby_projects/Datasets/FashionMNIST/FashionMNIST/data_train'\n",
    "test_dataset_dir = '/home/abhinav/Documents/Work/2 Hobby_projects/Datasets/FashionMNIST/FashionMNIST/data_test'\n",
    "\n",
    "transform = transforms.Compose([\n",
    "    # transforms.Resize((128, 128)),  # Resize images to 128x128 (change as needed)\n",
    "    transforms.ToTensor(),          # Convert images to PyTorch tensors\n",
    "    transforms.Normalize((0.5,), (0.5,))  # Normalize images (adjust mean/std as needed)\n",
    "])\n",
    "\n",
    "target_transform = Lambda(lambda y: torch.zeros(num_classes, dtype=torch.float).scatter_(0, torch.tensor(y), value=1))\n",
    "\n",
    "train_data = datasets.ImageFolder(root=train_dataset_dir, transform=transform, target_transform=target_transform)\n",
    "test_data = datasets.ImageFolder(root=test_dataset_dir, transform=transform, target_transform=target_transform)"
   ]
  },
  {
   "cell_type": "code",
   "execution_count": 9,
   "metadata": {},
   "outputs": [
    {
     "name": "stdout",
     "output_type": "stream",
     "text": [
      "len of train data:  60000\n",
      "len of first unit of train data:  2\n"
     ]
    }
   ],
   "source": [
    "print(\"len of train data: \", len(set(train_data)))\n",
    "print(\"len of first unit of train data: \", len(train_data[0]))\n",
    "print(\"The first part is image, and the second part is label\")"
   ]
  },
  {
   "cell_type": "code",
   "execution_count": 14,
   "metadata": {},
   "outputs": [
    {
     "data": {
      "image/png": "[encoded data removed]",
      "text/plain": [
       "<Figure size 500x500 with 9 Axes>"
      ]
     },
     "metadata": {},
     "output_type": "display_data"
    }
   ],
   "source": [
    "figure = plt.figure(figsize=(5, 5))\n",
    "\n",
    "cols, rows = 3, 3\n",
    "\n",
    "for i in range(1, cols*rows+1):\n",
    "    sample_idx = torch.randint(len(train_data), size=(1, )).item()\n",
    "    img, label = train_data[sample_idx]\n",
    "    img = img[0]\n",
    "    figure.add_subplot(rows, cols, i)\n",
    "    plt.title(labels_map[torch.argmax(label).item()])\n",
    "    plt.axis(\"off\")\n",
    "    plt.imshow(img.squeeze(), cmap=\"grey\")\n",
    "plt.show()\n"
   ]
  },
  {
   "cell_type": "code",
   "execution_count": 11,
   "metadata": {},
   "outputs": [],
   "source": [
    "# Preparing data for training using DataLoaders\n",
    "\n",
    "train_dataloader = DataLoader(train_data, batch_size=64, shuffle=True)\n",
    "test_dataloader = DataLoader(test_data, batch_size=64, shuffle=True)\n"
   ]
  },
  {
   "cell_type": "code",
   "execution_count": 12,
   "metadata": {},
   "outputs": [
    {
     "name": "stdout",
     "output_type": "stream",
     "text": [
      "First method:\n",
      "Batch of Images: torch.Size([64, 3, 28, 28])\n",
      "Batch of Labels: 64\n",
      "Second method:\n",
      "size of train_features:  64\n",
      "size of labels:  64\n",
      "shape of img:  torch.Size([28, 28])\n",
      "label:  9\n"
     ]
    },
    {
     "data": {
      "image/png": "[encoded data removed]",
      "text/plain": [
       "<Figure size 640x480 with 1 Axes>"
      ]
     },
     "metadata": {},
     "output_type": "display_data"
    }
   ],
   "source": [
    "# First way of iterating\n",
    "\n",
    "print(\"First method:\")\n",
    "for images, labels in train_dataloader:\n",
    "    print(f\"Batch of Images: {images.shape}\")  # (batch_size, channels, height, width)\n",
    "    print(f\"Batch of Labels: {len(labels)}\")       # Corresponding labels\n",
    "\n",
    "    # for i in range(len(images)):\n",
    "    #     print(\"image: \", images[i].shape)\n",
    "    #     print(\"label: \", labels[i])\n",
    "    break\n",
    "\n",
    "# Second way of iterating\n",
    "\n",
    "print(\"Second method:\")\n",
    "train_features, train_labels = next(iter(train_dataloader))\n",
    "print(\"size of train_features: \", len(train_features))\n",
    "print(\"size of labels: \", len(train_labels))\n",
    "print(\"shape of img: \", img.shape)\n",
    "img = torch.mean(train_features[0].squeeze(), dim=0)\n",
    "label = train_labels[0]\n",
    "print(\"label: \", torch.argmax(label).item())\n",
    "plt.imshow(img, cmap=\"grey\")\n",
    "plt.show()"
   ]
  },
  {
   "cell_type": "code",
   "execution_count": null,
   "metadata": {},
   "outputs": [],
   "source": []
  },
  {
   "cell_type": "code",
   "execution_count": 13,
   "metadata": {},
   "outputs": [],
   "source": [
    "# Learn the reason why this creates an error\n",
    "\n",
    "# train_features, train_labels = next(iter(train_dataloader))\n",
    "# print(\"size of train_features: \", len(train_features))\n",
    "# print(\"size of labels: \", len(train_labels))\n",
    "\n",
    "# img = train_features[0].squeeze()\n",
    "# label = train_labels[0]\n",
    "# print(\"label: \", labels_map[label])\n",
    "# plt.imshow(img, cmap=\"grey\")\n",
    "# plt.show()"
   ]
  },
  {
   "cell_type": "code",
   "execution_count": null,
   "metadata": {},
   "outputs": [],
   "source": []
  },
  {
   "cell_type": "code",
   "execution_count": null,
   "metadata": {},
   "outputs": [],
   "source": []
  },
  {
   "cell_type": "code",
   "execution_count": null,
   "metadata": {},
   "outputs": [],
   "source": []
  }
 ],
 "metadata": {
  "kernelspec": {
   "display_name": "Python 3",
   "language": "python",
   "name": "python3"
  },
  "language_info": {
   "codemirror_mode": {
    "name": "ipython",
    "version": 3
   },
   "file_extension": ".py",
   "mimetype": "text/x-python",
   "name": "python",
   "nbconvert_exporter": "python",
   "pygments_lexer": "ipython3",
   "version": "3.10.12"
  }
 },
 "nbformat": 4,
 "nbformat_minor": 2
}
