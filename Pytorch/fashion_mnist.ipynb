{
 "cells": [
  {
   "cell_type": "code",
   "execution_count": 1,
   "metadata": {},
   "outputs": [],
   "source": [
    "import os\n",
    "import pandas as pd\n",
    "import numpy as np\n",
    "import torch\n",
    "import matplotlib.pyplot as plt\n",
    "import ubyte\n",
    "import idx2numpy\n",
    "\n",
    "from torchvision.io import read_image\n",
    "from torch.utils.data import Dataset\n",
    "from torch.utils.data import DataLoader\n",
    "from torchvision import datasets, transforms\n",
    "from torchvision.transforms import ToTensor, Lambda\n",
    "from torch import nn\n"
   ]
  },
  {
   "cell_type": "code",
   "execution_count": 2,
   "metadata": {},
   "outputs": [],
   "source": [
    "# This is the code to convert a ubyte data to images and labels to a directory\n",
    "\n",
    "# # ubyte.decode_idx3_ubyte(\"/home/abhinav/Documents/Work/2 Hobby_projects/Datasets/FashionMNIST/FashionMNIST/raw/train-labels-idx1-ubyte\")\n",
    "# import os\n",
    "# import numpy as np\n",
    "# from PIL import Image\n",
    "\n",
    "# def ubyte_to_images(ubyte_file, label_file, output_folder, image_size=(28, 28)):\n",
    "#     \"\"\"\n",
    "#     Convert ubyte image data to individual image files.\n",
    "    \n",
    "#     Args:\n",
    "#         ubyte_file (str): Path to the .ubyte file containing images.\n",
    "#         label_file (str): Path to the .ubyte file containing labels.\n",
    "#         output_folder (str): Directory to save the extracted images.\n",
    "#         image_size (tuple): The size of each image (e.g., (28, 28) for MNIST).\n",
    "#     \"\"\"\n",
    "#     # Create output folder if it doesn't exist\n",
    "#     os.makedirs(output_folder, exist_ok=True)\n",
    "\n",
    "#     # Read image data\n",
    "#     with open(ubyte_file, 'rb') as img_file:\n",
    "#         img_file.read(16)  # Skip the header\n",
    "#         images = np.frombuffer(img_file.read(), dtype=np.uint8)\n",
    "#         images = images.reshape(-1, *image_size)\n",
    "\n",
    "#     # Read label data\n",
    "#     with open(label_file, 'rb') as lbl_file:\n",
    "#         lbl_file.read(8)  # Skip the header\n",
    "#         labels = np.frombuffer(lbl_file.read(), dtype=np.uint8)\n",
    "\n",
    "#     # Save images to the output folder\n",
    "#     for idx, (image, label) in enumerate(zip(images, labels)):\n",
    "#         # Create label folder\n",
    "#         label_folder = os.path.join(output_folder, str(label))\n",
    "#         os.makedirs(label_folder, exist_ok=True)\n",
    "\n",
    "#         # Save image as PNG\n",
    "#         img = Image.fromarray(image)\n",
    "#         img.save(os.path.join(label_folder, f\"{idx}.png\"))\n",
    "\n",
    "#     print(f\"Images successfully saved to {output_folder}\")\n",
    "\n",
    "# # Example usage\n",
    "# ubyte_file_path = '/home/abhinav/Documents/Work/2 Hobby_projects/Datasets/FashionMNIST/FashionMNIST/raw/train-images-idx3-ubyte'  # Replace with your .ubyte image file\n",
    "# label_file_path = '/home/abhinav/Documents/Work/2 Hobby_projects/Datasets/FashionMNIST/FashionMNIST/raw/train-labels-idx1-ubyte'  # Replace with your .ubyte label file\n",
    "# output_directory = '/home/abhinav/Documents/Work/2 Hobby_projects/Datasets/FashionMNIST/FashionMNIST/data_train'          # Replace with your desired output folder\n",
    "\n",
    "# ubyte_to_images(ubyte_file_path, label_file_path, output_directory)\n",
    "\n",
    "# ubyte_file_path = '/home/abhinav/Documents/Work/2 Hobby_projects/Datasets/FashionMNIST/FashionMNIST/raw/t10k-images-idx3-ubyte'  # Replace with your .ubyte image file\n",
    "# label_file_path = '/home/abhinav/Documents/Work/2 Hobby_projects/Datasets/FashionMNIST/FashionMNIST/raw/t10k-labels-idx1-ubyte'  # Replace with your .ubyte label file\n",
    "# output_directory = '/home/abhinav/Documents/Work/2 Hobby_projects/Datasets/FashionMNIST/FashionMNIST/data_test'          # Replace with your desired output folder\n",
    "\n",
    "# ubyte_to_images(ubyte_file_path, label_file_path, output_directory)\n"
   ]
  },
  {
   "cell_type": "code",
   "execution_count": 3,
   "metadata": {},
   "outputs": [],
   "source": [
    "num_classes = 10"
   ]
  },
  {
   "cell_type": "code",
   "execution_count": 4,
   "metadata": {},
   "outputs": [],
   "source": [
    "# # This is the way to download dataset from prebuilt datasets of pytorch\n",
    "\n",
    "# train_data = datasets.FashionMNIST(\n",
    "#     root=\"/home/abhinav/Documents/Work/2 Hobby_projects/AIProjects/Pytorch/Data/FashionMNIST/raw/train-images-idx3-ubyte\",\n",
    "#     train=True,\n",
    "#     download=False,\n",
    "#     transform=ToTensor(),\n",
    "#     target_transform=Lambda(lambda y: torch.zeros(10, dtype=torch.float).scatter_(0, torch.tensor(y), value=1))\n",
    "# )\n",
    "\n",
    "# test_data = datasets.FashionMNIST(\n",
    "#     root=\"Data/FashionMNIST\",\n",
    "#     train=False,\n",
    "#     download=False,\n",
    "#     transform=ToTensor()\n",
    "# )"
   ]
  },
  {
   "cell_type": "code",
   "execution_count": 5,
   "metadata": {},
   "outputs": [],
   "source": [
    "# class CustomImageDataset(Dataset):\n",
    "#     def __init__(self, annotations_file, img_dir, transform=None, target_transform=None):\n",
    "#         self.img_labels = pd.read_csv(annotations_file)\n",
    "#         self.img_dir = img_dir\n",
    "#         self.transform = transform\n",
    "#         self.target_transform = target_transform\n",
    "\n",
    "#     def __len__(self):\n",
    "#         return len(self.img_labels)\n",
    "\n",
    "#     def __getitem__(self, idx):\n",
    "#         img_path = os.path.join(self.img_dir, self.img_labels.iloc[idx, 0])\n",
    "#         image = read_image(img_path)\n",
    "#         label = self.img_labels.iloc[idx, 1]\n",
    "#         if self.transform:\n",
    "#             image = self.transform(image)\n",
    "#         if self.target_transform:\n",
    "#             label = self.target_transform(label)\n",
    "#         return image, label"
   ]
  },
  {
   "cell_type": "code",
   "execution_count": 6,
   "metadata": {},
   "outputs": [],
   "source": [
    "# train_data = CustomImageDataset(\"/home/abhinav/Documents/Work/2 Hobby_projects/Datasets/FashionMNIST/FashionMNIST/raw/train-labels-idx1-ubyte\", \n",
    "#                                 \"/home/abhinav/Documents/Work/2 Hobby_projects/Datasets/FashionMNIST/FashionMNIST/raw/train-images-idx3-ubyte\", \n",
    "#                                 ToTensor(),\n",
    "#                                 Lambda(lambda y: torch.zeros(10, dtype=torch.float).scatter_(0, torch.tensor(y), value=1))\n",
    "#                                 )\n",
    "\n",
    "# test_data = CustomImageDataset(\"/home/abhinav/Documents/Work/2 Hobby_projects/Datasets/FashionMNIST/FashionMNIST/raw/t10k-labels-idx1-ubyte\", \n",
    "#                                 \"/home/abhinav/Documents/Work/2 Hobby_projects/Datasets/FashionMNIST/FashionMNIST/raw/t10k-images-idx3-ubyte\", \n",
    "#                                 ToTensor(),\n",
    "#                                 Lambda(lambda y: torch.zeros(10, dtype=torch.float).scatter_(0, torch.tensor(y), value=1))\n",
    "#                                 )"
   ]
  },
  {
   "cell_type": "code",
   "execution_count": 7,
   "metadata": {},
   "outputs": [],
   "source": [
    "labels_map = {\n",
    "    0: \"T-Shirt\",\n",
    "    1: \"Trouser\",\n",
    "    2: \"Pullover\",\n",
    "    3: \"Dress\",\n",
    "    4: \"Coat\",\n",
    "    5: \"Sandal\",\n",
    "    6: \"Shirt\",\n",
    "    7: \"Sneaker\",\n",
    "    8: \"Bag\",\n",
    "    9: \"Ankle Boot\",\n",
    "}"
   ]
  },
  {
   "cell_type": "code",
   "execution_count": 8,
   "metadata": {},
   "outputs": [],
   "source": [
    "train_dataset_dir = '/home/abhinav/Documents/Work/2 Hobby_projects/Datasets/FashionMNIST/FashionMNIST/data_train'\n",
    "test_dataset_dir = '/home/abhinav/Documents/Work/2 Hobby_projects/Datasets/FashionMNIST/FashionMNIST/data_test'\n",
    "\n",
    "transform = transforms.Compose([\n",
    "    # transforms.Resize((128, 128)),  # Resize images to 128x128 (change as needed)\n",
    "    transforms.ToTensor(),          # Convert images to PyTorch tensors\n",
    "    transforms.Normalize((0.5,), (0.5,))  # Normalize images (adjust mean/std as needed)\n",
    "])\n",
    "\n",
    "target_transform = Lambda(lambda y: torch.zeros(num_classes, dtype=torch.float).scatter_(0, torch.tensor(y), value=1))\n",
    "\n",
    "train_data = datasets.ImageFolder(root=train_dataset_dir, transform=transform, target_transform=target_transform)\n",
    "test_data = datasets.ImageFolder(root=test_dataset_dir, transform=transform, target_transform=target_transform)"
   ]
  },
  {
   "cell_type": "code",
   "execution_count": 9,
   "metadata": {},
   "outputs": [],
   "source": [
    "# print(\"len of train data: \", len(set(train_data)))\n",
    "# print(\"len of first unit of train data: \", len(train_data[0]))\n",
    "# print(\"The first part is image, and the second part is label\")"
   ]
  },
  {
   "cell_type": "code",
   "execution_count": 10,
   "metadata": {},
   "outputs": [
    {
     "data": {
      "image/png": "[encoded data removed]",
      "text/plain": [
       "<Figure size 500x500 with 9 Axes>"
      ]
     },
     "metadata": {},
     "output_type": "display_data"
    }
   ],
   "source": [
    "figure = plt.figure(figsize=(5, 5))\n",
    "\n",
    "cols, rows = 3, 3\n",
    "\n",
    "for i in range(1, cols*rows+1):\n",
    "    sample_idx = torch.randint(len(train_data), size=(1, )).item()\n",
    "    img, label = train_data[sample_idx]\n",
    "    img = img[0]\n",
    "    figure.add_subplot(rows, cols, i)\n",
    "    plt.title(labels_map[torch.argmax(label).item()])\n",
    "    plt.axis(\"off\")\n",
    "    plt.imshow(img.squeeze(), cmap=\"grey\")\n",
    "plt.show()\n"
   ]
  },
  {
   "cell_type": "code",
   "execution_count": 11,
   "metadata": {},
   "outputs": [],
   "source": [
    "# Preparing data for training using DataLoaders\n",
    "\n",
    "train_dataloader = DataLoader(train_data, batch_size=64, shuffle=True)\n",
    "test_dataloader = DataLoader(test_data, batch_size=64, shuffle=True)\n"
   ]
  },
  {
   "cell_type": "code",
   "execution_count": 12,
   "metadata": {},
   "outputs": [
    {
     "name": "stdout",
     "output_type": "stream",
     "text": [
      "First method:\n",
      "Batch of Images: torch.Size([64, 3, 28, 28])\n",
      "Batch of Labels: 64\n",
      "Second method:\n",
      "size of train_features:  64\n",
      "size of labels:  64\n",
      "shape of img:  torch.Size([28, 28])\n",
      "label:  0\n"
     ]
    },
    {
     "data": {
      "image/png": "[encoded data removed]",
      "text/plain": [
       "<Figure size 640x480 with 1 Axes>"
      ]
     },
     "metadata": {},
     "output_type": "display_data"
    }
   ],
   "source": [
    "# First way of iterating\n",
    "\n",
    "print(\"First method:\")\n",
    "for images, labels in train_dataloader:\n",
    "    print(f\"Batch of Images: {images.shape}\")  # (batch_size, channels, height, width)\n",
    "    print(f\"Batch of Labels: {len(labels)}\")       # Corresponding labels\n",
    "\n",
    "    # for i in range(len(images)):\n",
    "    #     print(\"image: \", images[i].shape)\n",
    "    #     print(\"label: \", labels[i])\n",
    "    break\n",
    "\n",
    "# Second way of iterating\n",
    "\n",
    "print(\"Second method:\")\n",
    "train_features, train_labels = next(iter(train_dataloader))\n",
    "print(\"size of train_features: \", len(train_features))\n",
    "print(\"size of labels: \", len(train_labels))\n",
    "print(\"shape of img: \", img.shape)\n",
    "img = torch.mean(train_features[0].squeeze(), dim=0)\n",
    "label = train_labels[0]\n",
    "print(\"label: \", torch.argmax(label).item())\n",
    "plt.imshow(img, cmap=\"grey\")\n",
    "plt.show()"
   ]
  },
  {
   "cell_type": "code",
   "execution_count": 13,
   "metadata": {},
   "outputs": [],
   "source": [
    "# Learn the reason why this creates an error\n",
    "\n",
    "# train_features, train_labels = next(iter(train_dataloader))\n",
    "# print(\"size of train_features: \", len(train_features))\n",
    "# print(\"size of labels: \", len(train_labels))\n",
    "\n",
    "# img = train_features[0].squeeze()\n",
    "# label = train_labels[0]\n",
    "# print(\"label: \", labels_map[label])\n",
    "# plt.imshow(img, cmap=\"grey\")\n",
    "# plt.show()"
   ]
  },
  {
   "cell_type": "code",
   "execution_count": 14,
   "metadata": {},
   "outputs": [
    {
     "name": "stdout",
     "output_type": "stream",
     "text": [
      "We are using cuda as device\n"
     ]
    }
   ],
   "source": [
    "device = (\n",
    "    \"cuda\"\n",
    "    if torch.cuda.is_available()\n",
    "    else \"mps\"\n",
    "    if torch.mps.is_available()\n",
    "    else \"cpu\"\n",
    ")\n",
    "\n",
    "print(f\"We are using {device} as device\")"
   ]
  },
  {
   "cell_type": "code",
   "execution_count": 15,
   "metadata": {},
   "outputs": [
    {
     "name": "stdout",
     "output_type": "stream",
     "text": [
      "Model:  NeuralNetwork(\n",
      "  (flatten): Flatten(start_dim=1, end_dim=-1)\n",
      "  (linear_relu_stack): Sequential(\n",
      "    (0): Linear(in_features=784, out_features=512, bias=True)\n",
      "    (1): ReLU()\n",
      "    (2): Linear(in_features=512, out_features=256, bias=True)\n",
      "    (3): ReLU()\n",
      "    (4): Linear(in_features=256, out_features=64, bias=True)\n",
      "    (5): ReLU()\n",
      "    (6): Linear(in_features=64, out_features=10, bias=True)\n",
      "  )\n",
      ")\n",
      "Layer: linear_relu_stack.0.weight, parameter size: torch.Size([512, 784])\n",
      "The previous layer has  784  neurons and the current layer has  512  neurons\n",
      "For each neuron of previous layer, for each neuron of current layer, weights will be assigned\n",
      "Layer: linear_relu_stack.0.bias, parameter size: torch.Size([512])\n",
      "Layer: linear_relu_stack.2.weight, parameter size: torch.Size([256, 512])\n",
      "The previous layer has  512  neurons and the current layer has  256  neurons\n",
      "For each neuron of previous layer, for each neuron of current layer, weights will be assigned\n",
      "Layer: linear_relu_stack.2.bias, parameter size: torch.Size([256])\n",
      "Layer: linear_relu_stack.4.weight, parameter size: torch.Size([64, 256])\n",
      "The previous layer has  256  neurons and the current layer has  64  neurons\n",
      "For each neuron of previous layer, for each neuron of current layer, weights will be assigned\n",
      "Layer: linear_relu_stack.4.bias, parameter size: torch.Size([64])\n",
      "Layer: linear_relu_stack.6.weight, parameter size: torch.Size([10, 64])\n",
      "The previous layer has  64  neurons and the current layer has  10  neurons\n",
      "For each neuron of previous layer, for each neuron of current layer, weights will be assigned\n",
      "Layer: linear_relu_stack.6.bias, parameter size: torch.Size([10])\n"
     ]
    }
   ],
   "source": [
    "class NeuralNetwork(nn.Module):\n",
    "    def __init__(self):\n",
    "        super().__init__()\n",
    "        # self.conv1 = nn.Sequential(\n",
    "        #     nn.Conv2d(in_channels=1,  # Input channels (e.g., RGB color)\n",
    "        #               out_channels=8,  # Number of filters in this layer\n",
    "        #               kernel_size=3,    # Size of each filter (3x3)\n",
    "        #               stride=1,         # Stride (movement) of the filter\n",
    "        #               padding=1),       # Padding to maintain the input size\n",
    "        #     nn.ReLU())  # Activation function (Rectified Linear Unit)\n",
    "\n",
    "        # # Convolutional Layer 2: Input (32 channels, 50x50 pixels)\n",
    "        # self.conv2 = nn.Sequential(\n",
    "        #     nn.Conv2d(in_channels=8,  # Input channels from previous layer(out_channels)\n",
    "        #               out_channels=16,  \n",
    "        #               kernel_size=3,     \n",
    "        #               stride=1,          \n",
    "        #               padding=1),        \n",
    "        #     nn.ReLU())\n",
    "        self.flatten = nn.Flatten()\n",
    "        self.linear_relu_stack = nn.Sequential(\n",
    "            nn.Linear(28*28, 512),\n",
    "            nn.ReLU(),\n",
    "            nn.Linear(512, 256),\n",
    "            nn.ReLU(),\n",
    "            nn.Linear(256, 64),\n",
    "            nn.ReLU(),\n",
    "            nn.Linear(64, 10)\n",
    "        )\n",
    "    def forward(self, x):\n",
    "        # x = self.conv1(x)\n",
    "        # x = self.conv2(x)\n",
    "        # print(\"shape of input recieved: \", x.shape)\n",
    "        x = self.flatten(x)\n",
    "        # print(\"shape of input after flatten operation: \", x.shape)\n",
    "        logits = self.linear_relu_stack(x)\n",
    "        # print(\"output of the model: \", logits)\n",
    "        return logits\n",
    "\n",
    "model = NeuralNetwork().to(device=device)\n",
    "print(\"Model: \", model)\n",
    "\n",
    "for name, parameters in model.named_parameters():\n",
    "    print(f\"Layer: {name}, parameter size: {parameters.size()}\")\n",
    "    if len(np.array(parameters.size())) == 2:\n",
    "        p = np.array(parameters.size())\n",
    "        print(\"The previous layer has \", p[1], \" neurons and the current layer has \", p[0], \" neurons\")\n",
    "        print(\"For each neuron of previous layer, for each neuron of current layer, weights will be assigned\")\n",
    "\n",
    "for param in model.parameters():\n",
    "    param.requires_grad_(True)"
   ]
  },
  {
   "cell_type": "code",
   "execution_count": 16,
   "metadata": {},
   "outputs": [],
   "source": [
    "# # Running a random input\n",
    "\n",
    "# X = torch.rand(1, 28, 28, device=device)\n",
    "# print(X.shape)\n",
    "# logits = model(X)\n",
    "# prediction = nn.Softmax(dim=1)(logits)\n",
    "# print(\"prediction: \", prediction)\n",
    "# ypred = prediction.argmax(1)\n",
    "# print(\"final prediction: \", ypred)"
   ]
  },
  {
   "cell_type": "code",
   "execution_count": 17,
   "metadata": {},
   "outputs": [],
   "source": [
    "epochs = 5\n",
    "batch_size = 64\n",
    "learning_rate = 1e-3"
   ]
  },
  {
   "cell_type": "code",
   "execution_count": 18,
   "metadata": {},
   "outputs": [],
   "source": [
    "# def train_loop(dataloader, model, loss_fn, optimizer):\n",
    "#     size = len(dataloader.dataset)\n",
    "#     # Set the model to training mode - important for batch normalization and dropout layers\n",
    "#     # Unnecessary in this situation but added for best practices\n",
    "#     model.train()\n",
    "#     for batch, (img, lab) in enumerate(dataloader):\n",
    "#         # Compute prediction and loss\n",
    "#         for X, y in zip(img, lab):\n",
    "#             print(\"X shape: \", X.shape)\n",
    "#             X = torch.mean(X, dim=0, keepdim=True)\n",
    "#             print(\"X shape: \", X.shape)\n",
    "#             pred = model(X.cuda())\n",
    "#             print(\"prediction: \", pred)\n",
    "#             print(\"target: \", y)\n",
    "#             # print(\"return cel: \", nn.CrossEntropyLoss(pred, y))\n",
    "#             loss = loss_fn(pred, y)\n",
    "\n",
    "#             # Backpropagation\n",
    "#             loss.backward()\n",
    "#             optimizer.step()\n",
    "#             optimizer.zero_grad()\n",
    "\n",
    "#         if batch % 100 == 0:\n",
    "#             loss, current = loss.item(), batch * batch_size + len(X)\n",
    "#             print(f\"loss: {loss:>7f}  [{current:>5d}/{size:>5d}]\")\n",
    "\n",
    "\n",
    "# def test_loop(dataloader, model, loss_fn):\n",
    "#     # Set the model to evaluation mode - important for batch normalization and dropout layers\n",
    "#     # Unnecessary in this situation but added for best practices\n",
    "#     model.eval()\n",
    "#     size = len(dataloader.dataset)\n",
    "#     num_batches = len(dataloader)\n",
    "#     test_loss, correct = 0, 0\n",
    "\n",
    "#     # Evaluating the model with torch.no_grad() ensures that no gradients are computed during test mode\n",
    "#     # also serves to reduce unnecessary gradient computations and memory usage for tensors with requires_grad=True\n",
    "#     with torch.no_grad():\n",
    "#         for X, y in dataloader:\n",
    "#             pred = model(X)\n",
    "#             test_loss += loss_fn(pred, y).item()\n",
    "#             correct += (pred.argmax(1) == y).type(torch.float).sum().item()\n",
    "\n",
    "#     test_loss /= num_batches\n",
    "#     correct /= size\n",
    "#     print(f\"Test Error: \\n Accuracy: {(100*correct):>0.1f}%, Avg loss: {test_loss:>8f} \\n\")"
   ]
  },
  {
   "cell_type": "code",
   "execution_count": 19,
   "metadata": {},
   "outputs": [],
   "source": [
    "def train_loop(dataloader, model, loss_fn, optimizer):\n",
    "    size = len(dataloader.dataset)\n",
    "    # Set the model to training mode - important for batch normalization and dropout layers\n",
    "    # Unnecessary in this situation but added for best practices\n",
    "    print(\"model device: \", next(model.parameters()).device)\n",
    "    print(\"model requires_grad: \")\n",
    "    for param in model.parameters():\n",
    "        print(\"sdf: \", param.requires_grad)\n",
    "    model.train()\n",
    "    for batch, (img, lab) in enumerate(dataloader):\n",
    "        # print(\"shape of (X, y): \", img.shape, lab.shape)\n",
    "        # print(\"batch: \", batch)\n",
    "        # print(\"len(X): \", len(img))\n",
    "        # Compute prediction and loss\n",
    "        for X, y in zip(img, lab):\n",
    "            # print(\"X: \", X.shape)\n",
    "            X = torch.mean(X, dim=0, keepdim=True)\n",
    "            # print(\"X: \", X.shape)\n",
    "            # print(\"y: \", y.shape)\n",
    "            # X = torch.argmax(X, dim=1)\n",
    "            # print(\"X after argmax: \", X)\n",
    "            # print(\"num_classes: \", num_classes)\n",
    "            # X = torch.nn.functional.one_hot(X, num_classes=num_classes).to(torch.float)\n",
    "            y = y.to(torch.float)\n",
    "            X = X.unsqueeze(0)\n",
    "            pred = model(X.cuda())\n",
    "            # print(\"Should print true eeee: \", pred.requires_grad)\n",
    "            pred = torch.argmax(pred, dim=1)\n",
    "            pred = torch.nn.functional.one_hot(pred, num_classes=num_classes).to(torch.float).squeeze()\n",
    "            # print(\"flatten weights: \", model.flatten.weight)\n",
    "            # print(\"pred: \", pred)\n",
    "            # print(\"y: \", y)\n",
    "            y = y.to(device)\n",
    "            loss = loss_fn(pred, y)\n",
    "            loss.requires_grad_(True)\n",
    "            # print(\"Should print true eeee: \", pred.requires_grad)\n",
    "            # Backpropagation\n",
    "            loss.backward()\n",
    "            optimizer.step()\n",
    "            optimizer.zero_grad()\n",
    "\n",
    "        if batch % 100 == 0:\n",
    "            loss, current = loss.item(), batch * batch_size + len(X)\n",
    "            print(f\"loss: {loss:>7f}  [{current:>5d}/{size:>5d}]\")\n",
    "\n"
   ]
  },
  {
   "cell_type": "code",
   "execution_count": 20,
   "metadata": {},
   "outputs": [],
   "source": [
    "\n",
    "def test_loop(dataloader, model, loss_fn):\n",
    "    # Set the model to evaluation mode - important for batch normalization and dropout layers\n",
    "    # Unnecessary in this situation but added for best practices\n",
    "    model.eval()\n",
    "    size = len(dataloader.dataset)\n",
    "    num_batches = len(dataloader)\n",
    "    test_loss, correct = 0, 0\n",
    "\n",
    "    # Evaluating the model with torch.no_grad() ensures that no gradients are computed during test mode\n",
    "    # also serves to reduce unnecessary gradient computations and memory usage for tensors with requires_grad=True\n",
    "    with torch.no_grad():\n",
    "        for img, lab in dataloader:\n",
    "            for Xx, Yy in zip(img, lab):\n",
    "                # print(\"X.shape: \", Xx.shape)\n",
    "                Xx = torch.mean(Xx, dim=0, keepdim=True)\n",
    "                # print(\"X.shape: \", Xx.shape)\n",
    "                Xx = Xx.to(device=device)\n",
    "                Xx = Xx.unsqueeze(0)\n",
    "                # print(\"X is in device: \", Xx.get_device())\n",
    "                # print(\"Model device:\", next(model.parameters()).device)\n",
    "\n",
    "                # print(\"model is in device: \", model.get_device())\n",
    "                pred = model(Xx)\n",
    "                pred = torch.argmax(pred, dim=1)\n",
    "                pred = torch.nn.functional.one_hot(pred, num_classes=num_classes).to(torch.float).squeeze()\n",
    "                Yy = Yy.to(device=device)\n",
    "                test_loss += loss_fn(pred, Yy).item()\n",
    "                correct += (pred.argmax(0) == Yy).type(torch.float).sum().item()\n",
    "\n",
    "                test_loss /= num_batches\n",
    "                correct /= size\n",
    "    print(f\"Test Error: \\n Accuracy: {(correct):>0.1f}%, Avg loss: {test_loss:>8f} \\n\")"
   ]
  },
  {
   "cell_type": "code",
   "execution_count": 21,
   "metadata": {},
   "outputs": [
    {
     "name": "stdout",
     "output_type": "stream",
     "text": [
      "CrossEntropyLoss()\n"
     ]
    }
   ],
   "source": [
    "a = torch.tensor([[ 0.0676, -0.0373,  0.1026,  0.0148, -0.0327, -0.0605, -0.0809, -0.0432, 0.0517,  0.2429]])\n",
    "b = torch.tensor([[1, 0, 0, 0, 0, 0, 0, 0, 0, 0]])\n",
    "\n",
    "a = torch.argmax(a, dim=1)\n",
    "num_class = 10\n",
    "\n",
    "a = torch.nn.functional.one_hot(a, num_classes=num_class).to(torch.float)\n",
    "b = b.to(torch.float)\n",
    "\n",
    "l = nn.CrossEntropyLoss()\n",
    "l(a, b)\n",
    "print(l)"
   ]
  },
  {
   "cell_type": "code",
   "execution_count": 25,
   "metadata": {},
   "outputs": [
    {
     "name": "stdout",
     "output_type": "stream",
     "text": [
      "Epoch 1\n",
      "-------------------------------\n",
      "model device:  cuda:0\n",
      "model requires_grad: \n",
      "sdf:  True\n",
      "sdf:  True\n",
      "sdf:  True\n",
      "sdf:  True\n",
      "sdf:  True\n",
      "sdf:  True\n",
      "sdf:  True\n",
      "sdf:  True\n",
      "loss: 2.461150  [    1/60000]\n",
      "loss: 1.461150  [ 6401/60000]\n",
      "loss: 2.461150  [12801/60000]\n",
      "loss: 2.461150  [19201/60000]\n"
     ]
    },
    {
     "ename": "KeyboardInterrupt",
     "evalue": "",
     "output_type": "error",
     "traceback": [
      "\u001b[0;31m---------------------------------------------------------------------------\u001b[0m",
      "\u001b[0;31mKeyboardInterrupt\u001b[0m                         Traceback (most recent call last)",
      "Cell \u001b[0;32mIn[25], line 7\u001b[0m\n\u001b[1;32m      5\u001b[0m \u001b[38;5;28;01mfor\u001b[39;00m t \u001b[38;5;129;01min\u001b[39;00m \u001b[38;5;28mrange\u001b[39m(epochs):\n\u001b[1;32m      6\u001b[0m     \u001b[38;5;28mprint\u001b[39m(\u001b[38;5;124mf\u001b[39m\u001b[38;5;124m\"\u001b[39m\u001b[38;5;124mEpoch \u001b[39m\u001b[38;5;132;01m{\u001b[39;00mt\u001b[38;5;241m+\u001b[39m\u001b[38;5;241m1\u001b[39m\u001b[38;5;132;01m}\u001b[39;00m\u001b[38;5;130;01m\\n\u001b[39;00m\u001b[38;5;124m-------------------------------\u001b[39m\u001b[38;5;124m\"\u001b[39m)\n\u001b[0;32m----> 7\u001b[0m     \u001b[43mtrain_loop\u001b[49m\u001b[43m(\u001b[49m\u001b[43mtrain_dataloader\u001b[49m\u001b[43m,\u001b[49m\u001b[43m \u001b[49m\u001b[43mmodel\u001b[49m\u001b[43m,\u001b[49m\u001b[43m \u001b[49m\u001b[43mloss_fn\u001b[49m\u001b[43m,\u001b[49m\u001b[43m \u001b[49m\u001b[43moptimizer\u001b[49m\u001b[43m)\u001b[49m\n\u001b[1;32m      8\u001b[0m     test_loop(test_dataloader, model, loss_fn)\n\u001b[1;32m      9\u001b[0m \u001b[38;5;28mprint\u001b[39m(\u001b[38;5;124m\"\u001b[39m\u001b[38;5;124mDone!\u001b[39m\u001b[38;5;124m\"\u001b[39m)\n",
      "Cell \u001b[0;32mIn[19], line 38\u001b[0m, in \u001b[0;36mtrain_loop\u001b[0;34m(dataloader, model, loss_fn, optimizer)\u001b[0m\n\u001b[1;32m     35\u001b[0m loss\u001b[38;5;241m.\u001b[39mrequires_grad_(\u001b[38;5;28;01mTrue\u001b[39;00m)\n\u001b[1;32m     36\u001b[0m \u001b[38;5;66;03m# print(\"Should print true eeee: \", pred.requires_grad)\u001b[39;00m\n\u001b[1;32m     37\u001b[0m \u001b[38;5;66;03m# Backpropagation\u001b[39;00m\n\u001b[0;32m---> 38\u001b[0m \u001b[43mloss\u001b[49m\u001b[38;5;241;43m.\u001b[39;49m\u001b[43mbackward\u001b[49m\u001b[43m(\u001b[49m\u001b[43m)\u001b[49m\n\u001b[1;32m     39\u001b[0m optimizer\u001b[38;5;241m.\u001b[39mstep()\n\u001b[1;32m     40\u001b[0m optimizer\u001b[38;5;241m.\u001b[39mzero_grad()\n",
      "File \u001b[0;32m~/.local/lib/python3.10/site-packages/torch/_tensor.py:581\u001b[0m, in \u001b[0;36mTensor.backward\u001b[0;34m(self, gradient, retain_graph, create_graph, inputs)\u001b[0m\n\u001b[1;32m    571\u001b[0m \u001b[38;5;28;01mif\u001b[39;00m has_torch_function_unary(\u001b[38;5;28mself\u001b[39m):\n\u001b[1;32m    572\u001b[0m     \u001b[38;5;28;01mreturn\u001b[39;00m handle_torch_function(\n\u001b[1;32m    573\u001b[0m         Tensor\u001b[38;5;241m.\u001b[39mbackward,\n\u001b[1;32m    574\u001b[0m         (\u001b[38;5;28mself\u001b[39m,),\n\u001b[0;32m   (...)\u001b[0m\n\u001b[1;32m    579\u001b[0m         inputs\u001b[38;5;241m=\u001b[39minputs,\n\u001b[1;32m    580\u001b[0m     )\n\u001b[0;32m--> 581\u001b[0m \u001b[43mtorch\u001b[49m\u001b[38;5;241;43m.\u001b[39;49m\u001b[43mautograd\u001b[49m\u001b[38;5;241;43m.\u001b[39;49m\u001b[43mbackward\u001b[49m\u001b[43m(\u001b[49m\n\u001b[1;32m    582\u001b[0m \u001b[43m    \u001b[49m\u001b[38;5;28;43mself\u001b[39;49m\u001b[43m,\u001b[49m\u001b[43m \u001b[49m\u001b[43mgradient\u001b[49m\u001b[43m,\u001b[49m\u001b[43m \u001b[49m\u001b[43mretain_graph\u001b[49m\u001b[43m,\u001b[49m\u001b[43m \u001b[49m\u001b[43mcreate_graph\u001b[49m\u001b[43m,\u001b[49m\u001b[43m \u001b[49m\u001b[43minputs\u001b[49m\u001b[38;5;241;43m=\u001b[39;49m\u001b[43minputs\u001b[49m\n\u001b[1;32m    583\u001b[0m \u001b[43m\u001b[49m\u001b[43m)\u001b[49m\n",
      "File \u001b[0;32m~/.local/lib/python3.10/site-packages/torch/autograd/__init__.py:347\u001b[0m, in \u001b[0;36mbackward\u001b[0;34m(tensors, grad_tensors, retain_graph, create_graph, grad_variables, inputs)\u001b[0m\n\u001b[1;32m    342\u001b[0m     retain_graph \u001b[38;5;241m=\u001b[39m create_graph\n\u001b[1;32m    344\u001b[0m \u001b[38;5;66;03m# The reason we repeat the same comment below is that\u001b[39;00m\n\u001b[1;32m    345\u001b[0m \u001b[38;5;66;03m# some Python versions print out the first line of a multi-line function\u001b[39;00m\n\u001b[1;32m    346\u001b[0m \u001b[38;5;66;03m# calls in the traceback and some print out the last line\u001b[39;00m\n\u001b[0;32m--> 347\u001b[0m \u001b[43m_engine_run_backward\u001b[49m\u001b[43m(\u001b[49m\n\u001b[1;32m    348\u001b[0m \u001b[43m    \u001b[49m\u001b[43mtensors\u001b[49m\u001b[43m,\u001b[49m\n\u001b[1;32m    349\u001b[0m \u001b[43m    \u001b[49m\u001b[43mgrad_tensors_\u001b[49m\u001b[43m,\u001b[49m\n\u001b[1;32m    350\u001b[0m \u001b[43m    \u001b[49m\u001b[43mretain_graph\u001b[49m\u001b[43m,\u001b[49m\n\u001b[1;32m    351\u001b[0m \u001b[43m    \u001b[49m\u001b[43mcreate_graph\u001b[49m\u001b[43m,\u001b[49m\n\u001b[1;32m    352\u001b[0m \u001b[43m    \u001b[49m\u001b[43minputs\u001b[49m\u001b[43m,\u001b[49m\n\u001b[1;32m    353\u001b[0m \u001b[43m    \u001b[49m\u001b[43mallow_unreachable\u001b[49m\u001b[38;5;241;43m=\u001b[39;49m\u001b[38;5;28;43;01mTrue\u001b[39;49;00m\u001b[43m,\u001b[49m\n\u001b[1;32m    354\u001b[0m \u001b[43m    \u001b[49m\u001b[43maccumulate_grad\u001b[49m\u001b[38;5;241;43m=\u001b[39;49m\u001b[38;5;28;43;01mTrue\u001b[39;49;00m\u001b[43m,\u001b[49m\n\u001b[1;32m    355\u001b[0m \u001b[43m\u001b[49m\u001b[43m)\u001b[49m\n",
      "File \u001b[0;32m~/.local/lib/python3.10/site-packages/torch/autograd/graph.py:825\u001b[0m, in \u001b[0;36m_engine_run_backward\u001b[0;34m(t_outputs, *args, **kwargs)\u001b[0m\n\u001b[1;32m    823\u001b[0m     unregister_hooks \u001b[38;5;241m=\u001b[39m _register_logging_hooks_on_whole_graph(t_outputs)\n\u001b[1;32m    824\u001b[0m \u001b[38;5;28;01mtry\u001b[39;00m:\n\u001b[0;32m--> 825\u001b[0m     \u001b[38;5;28;01mreturn\u001b[39;00m \u001b[43mVariable\u001b[49m\u001b[38;5;241;43m.\u001b[39;49m\u001b[43m_execution_engine\u001b[49m\u001b[38;5;241;43m.\u001b[39;49m\u001b[43mrun_backward\u001b[49m\u001b[43m(\u001b[49m\u001b[43m  \u001b[49m\u001b[38;5;66;43;03m# Calls into the C++ engine to run the backward pass\u001b[39;49;00m\n\u001b[1;32m    826\u001b[0m \u001b[43m        \u001b[49m\u001b[43mt_outputs\u001b[49m\u001b[43m,\u001b[49m\u001b[43m \u001b[49m\u001b[38;5;241;43m*\u001b[39;49m\u001b[43margs\u001b[49m\u001b[43m,\u001b[49m\u001b[43m \u001b[49m\u001b[38;5;241;43m*\u001b[39;49m\u001b[38;5;241;43m*\u001b[39;49m\u001b[43mkwargs\u001b[49m\n\u001b[1;32m    827\u001b[0m \u001b[43m    \u001b[49m\u001b[43m)\u001b[49m  \u001b[38;5;66;03m# Calls into the C++ engine to run the backward pass\u001b[39;00m\n\u001b[1;32m    828\u001b[0m \u001b[38;5;28;01mfinally\u001b[39;00m:\n\u001b[1;32m    829\u001b[0m     \u001b[38;5;28;01mif\u001b[39;00m attach_logging_hooks:\n",
      "\u001b[0;31mKeyboardInterrupt\u001b[0m: "
     ]
    }
   ],
   "source": [
    "loss_fn = nn.CrossEntropyLoss()\n",
    "optimizer = torch.optim.RMSprop(model.parameters(), lr=0.001)\n",
    "\n",
    "epochs = 5\n",
    "for t in range(epochs):\n",
    "    print(f\"Epoch {t+1}\\n-------------------------------\")\n",
    "    train_loop(train_dataloader, model, loss_fn, optimizer)\n",
    "    test_loop(test_dataloader, model, loss_fn)\n",
    "print(\"Done!\")"
   ]
  },
  {
   "cell_type": "code",
   "execution_count": null,
   "metadata": {},
   "outputs": [],
   "source": [
    "# # Example of target with class indices\n",
    "# loss = nn.CrossEntropyLoss()\n",
    "\n",
    "# # Example of target with class probabilities\n",
    "# input = torch.randn(3, 5, requires_grad=True)\n",
    "# target = torch.randn(3, 5).softmax(dim=1)\n",
    "# print(\"input shape: \", input.shape)\n",
    "# print(\"target shape: \", target.shape)\n",
    "# print(\"input :\", input)\n",
    "# print(\"target: \", target)\n",
    "# output = loss(input, target)\n",
    "# output.backward()"
   ]
  },
  {
   "cell_type": "code",
   "execution_count": null,
   "metadata": {},
   "outputs": [],
   "source": []
  },
  {
   "cell_type": "code",
   "execution_count": null,
   "metadata": {},
   "outputs": [],
   "source": []
  }
 ],
 "metadata": {
  "kernelspec": {
   "display_name": "Python 3",
   "language": "python",
   "name": "python3"
  },
  "language_info": {
   "codemirror_mode": {
    "name": "ipython",
    "version": 3
   },
   "file_extension": ".py",
   "mimetype": "text/x-python",
   "name": "python",
   "nbconvert_exporter": "python",
   "pygments_lexer": "ipython3",
   "version": "3.10.12"
  }
 },
 "nbformat": 4,
 "nbformat_minor": 2
}
