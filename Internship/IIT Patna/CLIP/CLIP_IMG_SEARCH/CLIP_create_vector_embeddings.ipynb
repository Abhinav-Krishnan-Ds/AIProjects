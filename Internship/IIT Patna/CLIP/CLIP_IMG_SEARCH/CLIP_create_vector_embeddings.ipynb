{
  "cells": [
    {
      "cell_type": "code",
      "execution_count": null,
      "metadata": {},
      "outputs": [
        {
          "name": "stderr",
          "output_type": "stream",
          "text": [
            "253it [06:25,  1.52s/it]                         \n"
          ]
        }
      ],
      "source": [
        "import os\n",
        "from PIL import Image\n",
        "import PIL\n",
        "import matplotlib.pyplot as plt\n",
        "from tqdm import tqdm\n",
        "import numpy as np\n",
        "import pandas as pd\n",
        "import pickle\n",
        "\n",
        "import torch\n",
        "from datasets import Dataset, Image\n",
        "from torch.utils.data import DataLoader\n",
        "\n",
        "from typing import List, Union\n",
        "\n",
        "from transformers import CLIPProcessor, CLIPModel\n",
        "\n",
        "\n",
        "device = \"cpu\"\n",
        "model = CLIPModel.from_pretrained(\"openai/clip-vit-base-patch32\")\n",
        "preprocess = CLIPProcessor.from_pretrained(\"openai/clip-vit-base-patch32\")\n",
        "\n",
        "image_path = os.listdir(\"/home/abhinav/Documents/Work/2 Hobby_projects/Datasets/Flicker_8k/Images/\")\n",
        "image_path = ['/home/abhinav/Documents/Work/2 Hobby_projects/Datasets/Flicker_8k/Images/' + path for path in image_path if '.jpg' in path]\n",
        "image_path.sort()\n",
        "\n",
        "# captions_df = pd.read_csv('captions.csv')\n",
        "captions_df = pd.read_csv('/home/abhinav/Documents/Work/2 Hobby_projects/Datasets/Flicker_8k/captions.csv')\n",
        "\n",
        "\n",
        "\n",
        "def encode_images(images: Union[List[str], List[PIL.Image.Image]], batch_size: int):\n",
        "    def transform_fn(el):\n",
        "        if isinstance(el['image'], PIL.Image.Image):\n",
        "            imgs = el['image']\n",
        "        else:\n",
        "            imgs = [Image().decode_example(_) for _ in el['image']]\n",
        "        return preprocess(images=imgs, return_tensors='pt')\n",
        "        \n",
        "    dataset = Dataset.from_dict({'image': images})\n",
        "    dataset = dataset.cast_column('image',Image(decode=False)) if isinstance(images[0], str) else dataset       \n",
        "    dataset.set_format('torch')\n",
        "    dataset.set_transform(transform_fn)\n",
        "    dataloader = DataLoader(dataset, batch_size=batch_size)\n",
        "    image_embeddings = []\n",
        "    pbar = tqdm(total=len(images) // batch_size, position=0)\n",
        "    with torch.no_grad():\n",
        "        for batch in dataloader:\n",
        "            batch = {k:v.to(device) for k,v in batch.items()}\n",
        "            image_embeddings.extend(model.get_image_features(**batch).detach().cpu().numpy())\n",
        "            pbar.update(1)\n",
        "        pbar.close()\n",
        "    return np.stack(image_embeddings)\n",
        "\n",
        "\n",
        "def encode_text( text: List[str], batch_size: int):\n",
        "    dataset = Dataset.from_dict({'text': text})\n",
        "    dataset = dataset.map(lambda el: preprocess(text=el['text'], return_tensors=\"pt\",\n",
        "                                                        max_length=77, padding=\"max_length\", truncation=True),\n",
        "                            batched=True,\n",
        "                            remove_columns=['text'])\n",
        "    dataset.set_format('torch')\n",
        "    dataloader = DataLoader(dataset, batch_size=batch_size)\n",
        "    text_embeddings = []\n",
        "    pbar = tqdm(total=len(text) // batch_size, position=0)\n",
        "    with torch.no_grad():\n",
        "        for batch in dataloader:\n",
        "            batch = {k: v.to(device) for k, v in batch.items()}\n",
        "            text_embeddings.extend(model.get_text_features(**batch).detach().cpu().numpy())\n",
        "            pbar.update(1)\n",
        "        pbar.close()\n",
        "    return np.stack(text_embeddings)\n",
        "\n",
        "vector_embedding = np.array(encode_images(image_path,32))\n",
        "\n"
      ]
    },
    {
      "cell_type": "code",
      "execution_count": 4,
      "metadata": {},
      "outputs": [],
      "source": [
        "\n",
        "with open('/home/abhinav/Desktop/AIProjects/Internship/IIT Patna/CLIP/flicker8k_image_embeddings.pkl','wb') as f:\n",
        "    pickle.dump(vector_embedding, f)"
      ]
    },
    {
      "cell_type": "code",
      "execution_count": null,
      "metadata": {},
      "outputs": [],
      "source": []
    }
  ],
  "metadata": {
    "accelerator": "GPU",
    "colab": {
      "gpuType": "T4",
      "include_colab_link": true,
      "provenance": []
    },
    "kernelspec": {
      "display_name": "Python 3",
      "name": "python3"
    },
    "language_info": {
      "codemirror_mode": {
        "name": "ipython",
        "version": 3
      },
      "file_extension": ".py",
      "mimetype": "text/x-python",
      "name": "python",
      "nbconvert_exporter": "python",
      "pygments_lexer": "ipython3",
      "version": "3.10.12"
    },
    "orig_nbformat": 4
  },
  "nbformat": 4,
  "nbformat_minor": 0
}
